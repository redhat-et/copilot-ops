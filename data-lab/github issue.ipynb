{
 "cells": [
  {
   "cell_type": "code",
   "execution_count": 1,
   "id": "09062587",
   "metadata": {},
   "outputs": [
    {
     "data": {
      "text/plain": [
       "undefined"
      ]
     },
     "execution_count": 1,
     "metadata": {},
     "output_type": "execute_result"
    }
   ],
   "source": [
    "// object for variables so we don't run into problems when redclaring\n",
    "const v = {\n",
    "\t// store for variables we obtained in asynchornous calls\n",
    "\tasynced: {},\n",
    "};\n",
    "// functions\n",
    "const f = {};"
   ]
  },
  {
   "cell_type": "code",
   "execution_count": 2,
   "id": "591bcfc7",
   "metadata": {},
   "outputs": [
    {
     "data": {
      "text/plain": [
       "{ REPO_OWNER: 'RobotSail', REPO_NAME: 'apps-clone' }"
      ]
     },
     "execution_count": 2,
     "metadata": {},
     "output_type": "execute_result"
    }
   ],
   "source": [
    "v.const = {\n",
    "\tREPO_OWNER: 'RobotSail',\n",
    "\tREPO_NAME: 'apps-clone',\n",
    "}"
   ]
  },
  {
   "cell_type": "code",
   "execution_count": 3,
   "id": "5bb74c13-c08d-4099-b959-3a73dfad77d1",
   "metadata": {},
   "outputs": [
    {
     "name": "stdout",
     "output_type": "stream",
     "text": [
      "received data {\n",
      "  data: {\n",
      "    __schema: {\n",
      "      queryType: [Object],\n",
      "      mutationType: [Object],\n",
      "      subscriptionType: null,\n",
      "      types: [Array],\n",
      "      directives: [Array]\n",
      "    }\n",
      "  }\n",
      "}\n"
     ]
    },
    {
     "data": {
      "text/plain": [
       "undefined"
      ]
     },
     "execution_count": 3,
     "metadata": {},
     "output_type": "execute_result"
    }
   ],
   "source": [
    "var axios = require('axios');\n",
    "v.headers = {\n",
    "  Authorization:`bearer ${process.env.GITHUB_PAT}`\n",
    "};\n",
    "v.data = {\n",
    "\tquery: `\n",
    "\t\tquery {\n",
    "\t\t\tviewer {\n",
    "\t\t\t\trepositories(first: 100, privacy: PUBLIC, orderBy: {field: CREATED_AT, direction: DESC}) {\n",
    "\t\t\t\t\tnodes {\n",
    "\t\t\t\t\t\tname\n",
    "\t\t\t\t\t\tdescription\n",
    "\t\t\t\t\t\turl\n",
    "\t\t\t\t\t}\n",
    "\t\t\t\t}\n",
    "\t\t\t}\n",
    "\t\t}\n",
    "\t`\n",
    "};\n",
    "v.response = axios.get(\"https://api.github.com/graphql\", {headers: v.headers, data: v.data}).then(resp => {\n",
    "    console.log('received data', resp.data)\n",
    "});\n",
    "\n"
   ]
  },
  {
   "cell_type": "code",
   "execution_count": 4,
   "id": "2ae0ef89-c69e-4477-a1ac-6f0d7a77a602",
   "metadata": {},
   "outputs": [
    {
     "data": {
      "text/plain": [
       "Client {\n",
       "  url: 'https://api.github.com/graphql',\n",
       "  fetchOptions: [Function: fetchOptions],\n",
       "  fetch: undefined,\n",
       "  suspense: false,\n",
       "  requestPolicy: 'cache-first',\n",
       "  preferGetMethod: false,\n",
       "  maskTypename: false,\n",
       "  'operations$': [Function: source],\n",
       "  reexecuteOperation: [Function: reexecuteOperation],\n",
       "  createOperationContext: [Function: createOperationContext],\n",
       "  createRequestOperation: [Function: createRequestOperation],\n",
       "  executeRequestOperation: [Function: executeRequestOperation],\n",
       "  executeQuery: [Function: executeQuery],\n",
       "  executeSubscription: [Function: executeSubscription],\n",
       "  executeMutation: [Function: executeMutation],\n",
       "  query: [Function: query],\n",
       "  readQuery: [Function: readQuery],\n",
       "  subscription: [Function: subscription],\n",
       "  mutation: [Function: mutation],\n",
       "  subscribeToDebugTarget: [Function (anonymous)]\n",
       "}"
      ]
     },
     "execution_count": 4,
     "metadata": {},
     "output_type": "execute_result"
    }
   ],
   "source": [
    "var { gql } = require('@urql/core');\n",
    "var { createClient } = require('@urql/core');\n",
    "require('isomorphic-unfetch');\n",
    "\n",
    "v.client = createClient({\n",
    "    url: 'https://api.github.com/graphql',\n",
    "    fetchOptions: () => {\n",
    "        const gh_token = process.env.GITHUB_PAT;\n",
    "        return {\n",
    "            headers: { Authorization: gh_token ? `Bearer ${gh_token}` : '' }\n",
    "        };\n",
    "    },\n",
    "});"
   ]
  },
  {
   "cell_type": "code",
   "execution_count": 5,
   "id": "16a8ba01-db3f-48f8-afa3-5c05b05bfc6b",
   "metadata": {},
   "outputs": [
    {
     "data": {
      "text/plain": [
       "{\n",
       "  kind: 'Document',\n",
       "  definitions: [\n",
       "    {\n",
       "      kind: 'OperationDefinition',\n",
       "      operation: 'query',\n",
       "      name: [Object],\n",
       "      variableDefinitions: [Array],\n",
       "      directives: [],\n",
       "      selectionSet: [Object]\n",
       "    }\n",
       "  ],\n",
       "  loc: {\n",
       "    start: 0,\n",
       "    end: 290,\n",
       "    source: {\n",
       "      body: '# GetIssues\\n' +\n",
       "        'query GetIssues($owner: String! $repo: String! $limit: Int $labels: [String!]) { repository(owner: $owner name: $repo) { issues(first: $limit labels: $labels) { totalCount pageInfo { startCursor hasNextPage endCursor } edges { node { number body title author { login } } } } } }',\n",
       "      name: 'gql',\n",
       "      locationOffset: [Object]\n",
       "    }\n",
       "  },\n",
       "  __key: 3955687553\n",
       "}"
      ]
     },
     "execution_count": 5,
     "metadata": {},
     "output_type": "execute_result"
    }
   ],
   "source": [
    "v.issuesQuery = gql`\n",
    "# grab first 100 issues in operate first repo\n",
    "query GetIssues ($owner: String!, $repo: String!, $limit: Int, $labels: [String!]) {\n",
    "  repository(owner: $owner, name: $repo) {\n",
    "    issues(first: $limit, labels: $labels) {\n",
    "      totalCount\n",
    "      pageInfo {\t\n",
    "        startCursor\n",
    "        hasNextPage\n",
    "        endCursor\n",
    "      }\n",
    "      edges {\n",
    "        node {\n",
    "          number\n",
    "          body\n",
    "          title\n",
    "          author {\n",
    "            login\n",
    "          }\n",
    "        }\n",
    "      }\n",
    "    }\n",
    "  }\n",
    "}\n",
    "`;"
   ]
  },
  {
   "cell_type": "code",
   "execution_count": 6,
   "id": "a9b67fb4-e36a-4671-b7f6-d33e401ee94e",
   "metadata": {},
   "outputs": [
    {
     "data": {
      "text/plain": [
       "undefined"
      ]
     },
     "execution_count": 6,
     "metadata": {},
     "output_type": "execute_result"
    }
   ],
   "source": [
    "v.queryData = {};\n",
    "v.client.query(v.issuesQuery)\n",
    "    .toPromise()\n",
    "    .then(r => v.queryData = r.data);\n"
   ]
  },
  {
   "cell_type": "code",
   "execution_count": 7,
   "id": "e9ff6245",
   "metadata": {},
   "outputs": [
    {
     "name": "stdout",
     "output_type": "stream",
     "text": [
      "issues undefined\n"
     ]
    }
   ],
   "source": [
    "// get the first N issues\n",
    "f.getIssues = async (gqlClient, limit = 1) => {\n",
    "\t// build query \n",
    "\tconst res = await gqlClient.query(v.issuesQuery, {\n",
    "\t\towner: v.const.REPO_OWNER,\n",
    "\t\trepo: v.const.REPO_NAME,\n",
    "\t\tlimit: limit\n",
    "\t})\n",
    "\t\t.toPromise()\n",
    "\t\t.then(r => {\n",
    "\t\t\tconsole.log(r);\n",
    "\t\t\treturn r.data\n",
    "\t\t})\n",
    "\t\t.catch(e => console.log('error', e));\n",
    "\tawait res\n",
    "\tv.asynced.issues = res.repository.issues.edges.map(({node}) => {\n",
    "\t\treturn {\n",
    "\t\t\tnumber: node.number,\n",
    "\t\t\tbody: node.body,\n",
    "\t\t\ttitle: node.title,\n",
    "\t\t}\n",
    "\t});\n",
    "\treturn v.asynced.issues;\n",
    "};\n",
    "\n",
    "// needed to run async functions\n",
    "$$.async();\n",
    "\n",
    "{\n",
    "\tf.getIssues(v.client, 1);\t\n",
    "\tconsole.log('issues', v.asynced.issues);\n",
    "\t$$done$$();\n",
    "}\n"
   ]
  },
  {
   "cell_type": "code",
   "execution_count": null,
   "id": "6950c46f",
   "metadata": {},
   "outputs": [],
   "source": [
    "console.log('variables at this point', v);"
   ]
  },
  {
   "cell_type": "code",
   "execution_count": 8,
   "id": "73717581-768c-4b77-8525-c6ba19458887",
   "metadata": {},
   "outputs": [
    {
     "data": {
      "text/plain": [
       "[Function (anonymous)]"
      ]
     },
     "execution_count": 8,
     "metadata": {},
     "output_type": "execute_result"
    }
   ],
   "source": [
    "\n",
    "\n",
    "// return a list of files \n",
    "f.getFilesFromIssue = (issue) => {\n",
    "\t// extract a list of the files from the issue based on the following regex:\n",
    "\t// /`(@([a-zA-Z0-9_\\-]+):(.+))`/g\n",
    "\tconst fileRegex = /`(@([a-zA-Z0-9_\\-]+):(.+))`/g;\n",
    "\tlet files = [];\n",
    "\t// extract the string from group 3 of the regex\n",
    "\tlet match;\n",
    "\twhile (match = fileRegex.exec(issue)) {\n",
    "\t\tfiles.push(match[3]);\n",
    "\t}\n",
    "\treturn files;\n",
    "}\n"
   ]
  },
  {
   "cell_type": "code",
   "execution_count": 9,
   "id": "b99bc71a",
   "metadata": {},
   "outputs": [
    {
     "name": "stdout",
     "output_type": "stream",
     "text": [
      "undefined\n"
     ]
    },
    {
     "ename": "TypeError",
     "evalue": "Cannot read properties of undefined (reading '0')",
     "output_type": "error",
     "traceback": [
      "evalmachine.<anonymous>:3",
      "v.filesFromIssue = f.getFilesFromIssue(v.issues[0].body);",
      "                                               ^",
      "",
      "TypeError: Cannot read properties of undefined (reading '0')",
      "    at evalmachine.<anonymous>:3:48",
      "    at Script.runInThisContext (node:vm:129:12)",
      "    at Object.runInThisContext (node:vm:305:38)",
      "    at run ([eval]:1054:15)",
      "    at onRunRequest ([eval]:888:18)",
      "    at onMessage ([eval]:848:13)",
      "    at process.emit (node:events:390:28)",
      "    at emit (node:internal/child_process:917:12)",
      "    at processTicksAndRejections (node:internal/process/task_queues:84:21)"
     ]
    },
    {
     "name": "stdout",
     "output_type": "stream",
     "text": [
      "{\n",
      "  operation: {\n",
      "    key: 3976054725,\n",
      "    query: { kind: 'Document', definitions: [Array], loc: [Object] },\n",
      "    variables: { owner: 'RobotSail', repo: 'apps-clone', limit: 1 },\n",
      "    kind: 'query',\n",
      "    context: {\n",
      "      url: 'https://api.github.com/graphql',\n",
      "      fetchOptions: [Function: fetchOptions],\n",
      "      fetch: undefined,\n",
      "      preferGetMethod: false,\n",
      "      suspense: false,\n",
      "      requestPolicy: 'cache-first',\n",
      "      meta: [Object]\n",
      "    }\n",
      "  },\n",
      "  data: { repository: { issues: [Object], __typename: 'Repository' } },\n",
      "  error: undefined,\n",
      "  extensions: undefined,\n",
      "  hasNext: false\n",
      "}\n"
     ]
    }
   ],
   "source": [
    "// return a list of files\n",
    "console.log(v.issues)\n",
    "v.filesFromIssue = f.getFilesFromIssue(v.issues[0].body);\n",
    "console.log(v.filesFromIssue);"
   ]
  },
  {
   "cell_type": "code",
   "execution_count": null,
   "id": "d012edcf",
   "metadata": {},
   "outputs": [],
   "source": [
    "f.buildPrompt = (issue) => {\n",
    "\t/* The following is an example prompt that would be sent to OpenAI;\n",
    "\t==== BEGIN PROMPT ====\n",
    "\t# Listed below are:\n",
    "\t# 1. Explanation of how two files need to be changed\n",
    "\t# 2. The original files\n",
    "\t# 3. An updated version of the files with the described changes\n",
    "\t# 4. A '---' string, indicating the end of this document\n",
    "\n",
    "\n",
    "\t## Description of issues:\n",
    "\t@file1:/path/to/file1\n",
    "\t@file2:/path/to/file2\n",
    "\n",
    "\tThe amount of CPU in @file1 needs to be increased to 512M\n",
    "\tThe PVC storage amount in @file2 should be decreased to 10Gi\n",
    "\n",
    "\t## Original files:\n",
    "\t# /path/to/file1\n",
    "\t<contents of file1>\n",
    "\n",
    "\t# /path/to/file2\n",
    "\t<contents of file2>\n",
    "\n",
    "\t## Updated files:\n",
    "\t==== END PROMPT ====\n",
    "\t*/\n",
    "\n",
    "\tv.initialPrompt = `\n",
    "# Listed below are:\n",
    "# 1. Explanation of how two files need to be changed\n",
    "# 2. The original files\n",
    "# 3. An updated version of the files with the described changes\n",
    "# 4. A '---' string, indicating the end of this document\n",
    "\n",
    "\n",
    "## Description of issues:\n",
    "${issue}`;\n",
    "\t// extract the files from the issue\n",
    "\n",
    "};\n"
   ]
  }
 ],
 "metadata": {
  "kernelspec": {
   "display_name": "JavaScript (Node.js)",
   "language": "javascript",
   "name": "javascript"
  },
  "language_info": {
   "file_extension": ".js",
   "mimetype": "application/javascript",
   "name": "javascript",
   "version": "16.13.1"
  }
 },
 "nbformat": 4,
 "nbformat_minor": 5
}
