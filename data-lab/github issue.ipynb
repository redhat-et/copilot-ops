{
 "cells": [
  {
   "cell_type": "markdown",
   "id": "f1b0c7c2",
   "metadata": {},
   "source": [
    "# Updating YAML Files with OpenAI\n",
    "\n",
    "Below is a (javascript) Jupyter notebook which goes through the flow \n",
    "of processing [this GitHub issue](https://github.com/robotsail/apps-clone/issues/1) \n",
    "on a cloned version of [operate-first/apps](https://github.com/robotsail/apps-clone).\n",
    "\n",
    "## Table of Contents\n",
    "\n",
    "The flow of the jupyter notebook is as follows:\n",
    "\n",
    "1. Setup\n",
    "2. Querying the issue from GitHub\n",
    "3. Processing its contents & downloading the relevant files\n",
    "4. Generating a prompt for OpenAI\n",
    "5. Mapping the response into the updated files"
   ]
  },
  {
   "cell_type": "markdown",
   "id": "bce10732",
   "metadata": {},
   "source": [
    "## Setup\n",
    "\n",
    "Below we define two objects:\n",
    "\n",
    "- `v`: A JavaScript object to store the variables for this notebook\n",
    "- `f`: A JavaScript object to store the functions for this notebook\n"
   ]
  },
  {
   "cell_type": "code",
   "execution_count": 1,
   "id": "09062587",
   "metadata": {},
   "outputs": [
    {
     "data": {
      "text/plain": [
       "undefined"
      ]
     },
     "execution_count": 1,
     "metadata": {},
     "output_type": "execute_result"
    }
   ],
   "source": [
    "// object for variables so we don't run into problems when redclaring\n",
    "const v = {\n",
    "\t// store for variables we obtained in asynchronous calls\n",
    "\tasynced: {},\n",
    "};\n",
    "// functions\n",
    "const f = {};"
   ]
  },
  {
   "cell_type": "markdown",
   "id": "c2f76cd1",
   "metadata": {},
   "source": [
    "### Constants\n",
    "We define a table of constants within `v`, where we'll place our API keys"
   ]
  },
  {
   "cell_type": "code",
   "execution_count": 2,
   "id": "591bcfc7",
   "metadata": {},
   "outputs": [
    {
     "name": "stdout",
     "output_type": "stream",
     "text": [
      "output hidden\n"
     ]
    },
    {
     "data": {
      "text/plain": [
       "undefined"
      ]
     },
     "execution_count": 2,
     "metadata": {},
     "output_type": "execute_result"
    }
   ],
   "source": [
    "v.const = {\n",
    "\tREPO_OWNER: 'RobotSail',\n",
    "\tREPO_NAME: 'apps-clone',\n",
    "\tOPENAI_API_KEY: process.env.OPENAI_API_KEY,\n",
    "\tOPENAI_API_URL: 'https://api.openai.com/v1/engines/code-davinci-001/completions',\n",
    "\tOPENAI_STOP_SEQUENCES: ['####'],\n",
    "\tGITHUB_API_KEY: process.env.GITHUB_PAT,\n",
    "}\n",
    "// hide the output \n",
    "console.log('output hidden')"
   ]
  },
  {
   "cell_type": "markdown",
   "metadata": {},
   "source": [
    "### GraphQL\n",
    "\n",
    "To cut down on the amount of requests made to GitHub and avoid rate-limiting issues,\n",
    "we'll use the GraphQL API to query the necessary data from GitHub.\n",
    "Below, we're using the `urql` GraphQL client, but we can equally use Apollo or just straight request with Axios."
   ]
  },
  {
   "cell_type": "code",
   "execution_count": 3,
   "id": "2ae0ef89-c69e-4477-a1ac-6f0d7a77a602",
   "metadata": {},
   "outputs": [
    {
     "data": {
      "text/plain": [
       "Client {\n",
       "  url: 'https://api.github.com/graphql',\n",
       "  fetchOptions: [Function: fetchOptions],\n",
       "  fetch: undefined,\n",
       "  suspense: false,\n",
       "  requestPolicy: 'cache-first',\n",
       "  preferGetMethod: false,\n",
       "  maskTypename: false,\n",
       "  'operations$': [Function: source],\n",
       "  reexecuteOperation: [Function: reexecuteOperation],\n",
       "  createOperationContext: [Function: createOperationContext],\n",
       "  createRequestOperation: [Function: createRequestOperation],\n",
       "  executeRequestOperation: [Function: executeRequestOperation],\n",
       "  executeQuery: [Function: executeQuery],\n",
       "  executeSubscription: [Function: executeSubscription],\n",
       "  executeMutation: [Function: executeMutation],\n",
       "  query: [Function: query],\n",
       "  readQuery: [Function: readQuery],\n",
       "  subscription: [Function: subscription],\n",
       "  mutation: [Function: mutation],\n",
       "  subscribeToDebugTarget: [Function (anonymous)]\n",
       "}"
      ]
     },
     "execution_count": 3,
     "metadata": {},
     "output_type": "execute_result"
    }
   ],
   "source": [
    "var { gql } = require('@urql/core');\n",
    "var { createClient } = require('@urql/core');\n",
    "require('isomorphic-unfetch');\n",
    "\n",
    "v.client = createClient({\n",
    "    url: 'https://api.github.com/graphql',\n",
    "    fetchOptions: () => {\n",
    "        const gh_token = v.const.GITHUB_API_KEY;\n",
    "        return {\n",
    "            headers: { Authorization: gh_token ? `Bearer ${gh_token}` : '' }\n",
    "        };\n",
    "    },\n",
    "});"
   ]
  },
  {
   "cell_type": "markdown",
   "id": "c9ff54bd",
   "metadata": {},
   "source": [
    "## Obtaining Issues\n",
    "\n",
    "We'll create a GraphQL query to obtain the issues we need. This query is simple,\n",
    "but can be easily scaled when implementing this as a bot."
   ]
  },
  {
   "cell_type": "code",
   "execution_count": 4,
   "id": "16a8ba01-db3f-48f8-afa3-5c05b05bfc6b",
   "metadata": {},
   "outputs": [
    {
     "data": {
      "text/plain": [
       "{\n",
       "  kind: 'Document',\n",
       "  definitions: [\n",
       "    {\n",
       "      kind: 'OperationDefinition',\n",
       "      operation: 'query',\n",
       "      name: [Object],\n",
       "      variableDefinitions: [Array],\n",
       "      directives: [],\n",
       "      selectionSet: [Object]\n",
       "    }\n",
       "  ],\n",
       "  loc: {\n",
       "    start: 0,\n",
       "    end: 290,\n",
       "    source: {\n",
       "      body: '# GetIssues\\n' +\n",
       "        'query GetIssues($owner: String! $repo: String! $limit: Int $labels: [String!]) { repository(owner: $owner name: $repo) { issues(first: $limit labels: $labels) { totalCount pageInfo { startCursor hasNextPage endCursor } edges { node { number body title author { login } } } } } }',\n",
       "      name: 'gql',\n",
       "      locationOffset: [Object]\n",
       "    }\n",
       "  },\n",
       "  __key: 3955687553\n",
       "}"
      ]
     },
     "execution_count": 4,
     "metadata": {},
     "output_type": "execute_result"
    }
   ],
   "source": [
    "v.issuesQuery = gql`\n",
    "# grab first 100 issues in operate first repo\n",
    "query GetIssues ($owner: String!, $repo: String!, $limit: Int, $labels: [String!]) {\n",
    "  repository(owner: $owner, name: $repo) {\n",
    "    issues(first: $limit, labels: $labels) {\n",
    "      totalCount\n",
    "      pageInfo {\t\n",
    "        startCursor\n",
    "        hasNextPage\n",
    "        endCursor\n",
    "      }\n",
    "      edges {\n",
    "        node {\n",
    "          number\n",
    "          body\n",
    "          title\n",
    "          author {\n",
    "            login\n",
    "          }\n",
    "        }\n",
    "      }\n",
    "    }\n",
    "  }\n",
    "}\n",
    "`;"
   ]
  },
  {
   "cell_type": "code",
   "execution_count": 5,
   "id": "e9ff6245",
   "metadata": {},
   "outputs": [
    {
     "name": "stdout",
     "output_type": "stream",
     "text": [
      "issues undefined\n"
     ]
    }
   ],
   "source": [
    "// get the first N issues\n",
    "f.getIssues = async (gqlClient, limit = 1) => {\n",
    "\t// build query \n",
    "\tconst res = await gqlClient.query(v.issuesQuery, {\n",
    "\t\towner: v.const.REPO_OWNER,\n",
    "\t\trepo: v.const.REPO_NAME,\n",
    "\t\tlimit: limit\n",
    "\t})\n",
    "\t\t.toPromise()\n",
    "\t\t.then(r => {\n",
    "\t\t\tconsole.log(r);\n",
    "\t\t\treturn r.data\n",
    "\t\t})\n",
    "\t\t.catch(e => console.log('error', e));\n",
    "\tawait res\n",
    "\tv.asynced.issues = res.repository.issues.edges.map(({ node }) => {\n",
    "\t\tif (node.body !== undefined) {\n",
    "\t\t\tnode.body = node.body.replace(/\\r\\n/g, '\\n');\n",
    "\t\t}\n",
    "\t\treturn {\n",
    "\t\t\tnumber: node.number,\n",
    "\t\t\tbody: node.body,\n",
    "\t\t\ttitle: node.title,\n",
    "\t\t}\n",
    "\t});\n",
    "\treturn v.asynced.issues;\n",
    "};\n",
    "\n",
    "// needed to run async functions\n",
    "$$.async();\n",
    "\n",
    "{\n",
    "\tf.getIssues(v.client, 1);\t\n",
    "\tconsole.log('issues', v.asynced.issues);\n",
    "\t$$done$$();\n",
    "}\n"
   ]
  },
  {
   "cell_type": "markdown",
   "id": "2e90de01",
   "metadata": {},
   "source": [
    "## Obtaining File Data\n",
    "Normally, this would all be handled inside of one function, but IJavaScript does not have the best support for async,\n",
    "so we're breaking it up into multiple functions before passing the final data over to buildPrompt.\n",
    "\n",
    "Once we have the issue, we simply extract the filepaths and generate a GraphQL query that'll obtain all of the files with a single request."
   ]
  },
  {
   "cell_type": "code",
   "execution_count": 6,
   "id": "73717581-768c-4b77-8525-c6ba19458887",
   "metadata": {},
   "outputs": [
    {
     "data": {
      "text/plain": [
       "[Function (anonymous)]"
      ]
     },
     "execution_count": 6,
     "metadata": {},
     "output_type": "execute_result"
    }
   ],
   "source": [
    "// return a map of {fileName => {path: path, content: content}}\n",
    "f.getFilesFromIssue = (issue) => {\n",
    "\t// extract a map of the files from the issue based on the following regex:\n",
    "\t// /`(@([a-zA-Z0-9_\\-]+):(.+))`/g\n",
    "\tconst fileRegex = /`(@([a-zA-Z0-9_\\-]+):(.+))`/g;\n",
    "\t// create a map from the filename to the filepath\n",
    "\tconst fileMap = new Map();\n",
    "\t// extract the string from group 3 of the regex\n",
    "\tlet match;\n",
    "\twhile (match = fileRegex.exec(issue)) {\n",
    "\t\tlet [name, path] = [match[2], match[3]];\n",
    "\t\tif (!fileMap.has(name)) {\n",
    "\t\t\t// define the file object here \n",
    "\t\t\tfileMap.set(name, {\n",
    "\t\t\t\tpath: path,\n",
    "\t\t\t\tcontent: '',\n",
    "\t\t\t\tupdatedContent: '',\n",
    "\t\t\t});\n",
    "\t\t} else {\n",
    "\t\t\tconsole.error(`duplicate file name ${name}`);\n",
    "\t\t}\n",
    "\t}\n",
    "\treturn fileMap;\n",
    "}\n"
   ]
  },
  {
   "cell_type": "code",
   "execution_count": 8,
   "id": "b99bc71a",
   "metadata": {},
   "outputs": [
    {
     "data": {
      "text/plain": [
       "Map(2) {\n",
       "  'file1' => {\n",
       "    path: 'grafana/base/datasource.yaml',\n",
       "    content: '',\n",
       "    updatedContent: ''\n",
       "  },\n",
       "  'file2' => {\n",
       "    path: 'grafana/base/grafana-route.yaml',\n",
       "    content: '',\n",
       "    updatedContent: ''\n",
       "  }\n",
       "}"
      ]
     },
     "execution_count": 8,
     "metadata": {},
     "output_type": "execute_result"
    }
   ],
   "source": [
    "// return a list of files\n",
    "v.filesFromIssue = f.getFilesFromIssue(v.asynced.issues[0].body);"
   ]
  },
  {
   "cell_type": "code",
   "execution_count": 9,
   "id": "182ec0f9",
   "metadata": {},
   "outputs": [
    {
     "data": {
      "text/plain": [
       "[Function (anonymous)]"
      ]
     },
     "execution_count": 9,
     "metadata": {},
     "output_type": "execute_result"
    }
   ],
   "source": [
    "f.createFileQuery = (files, branch) => {\n",
    "\tlet fileQuery = `\n",
    "\tfragment contents on Blob {\n",
    "\t\ttext\n",
    "\t}\n",
    "\t\n",
    "\tfragment rateLimitInfo on Query {\n",
    "\t\trateLimit {\n",
    "\t\t\tlimit\n",
    "\t\t\tcost\n",
    "\t\t\tremaining\n",
    "\t\t\tresetAt\n",
    "\t\t}\n",
    "\t}\n",
    "\t\n",
    "\tquery GetFiles($Owner: String!, $Repo: String!) {\t\n",
    "\t\t...rateLimitInfo\n",
    "\t\trepository(owner: $Owner, name:$Repo) {\n",
    "\t`;\n",
    "\t\n",
    "\t\tconst addFilesToQuery = (query, fileMap, branch) => {\n",
    "\t\t\t// iterate through fileMap and add each file to the query string\n",
    "\t\t\tfileMap.forEach((file, name) => {\n",
    "\t\t\t\tquery += `\n",
    "\t\t\t\t${name}: object(expression: \"${branch}:${file.path}\") {\n",
    "\t\t\t\t\t...contents\n",
    "\t\t\t\t}\n",
    "\t`;\n",
    "\t\t\t});\n",
    "\t\t\treturn query;\n",
    "\t\t}\n",
    "\t\n",
    "\t\tfileQuery = addFilesToQuery(fileQuery,files, branch);\n",
    "\t\tfileQuery += `\n",
    "\t\t}\n",
    "\t}\n",
    "\t`;\n",
    "\treturn fileQuery;\n",
    "}\t\n"
   ]
  },
  {
   "cell_type": "code",
   "execution_count": 10,
   "id": "0a9d2570",
   "metadata": {},
   "outputs": [
    {
     "data": {
      "text/plain": [
       "[AsyncFunction (anonymous)]"
      ]
     },
     "execution_count": 10,
     "metadata": {},
     "output_type": "execute_result"
    }
   ],
   "source": [
    "f.downloadFilesFromBranch = async (gqlClient, files, branch) => {\n",
    "\t// first we must build the GraphQL query to get the files\n",
    "\tconst fileQuery = f.createFileQuery(files, branch);\n",
    "\tconst fileQueryGql = gql`${fileQuery}`;\n",
    "\n",
    "\t// then we can run the query\n",
    "\tconst res = await gqlClient.query(fileQueryGql, {\n",
    "\t\tOwner: v.const.REPO_OWNER,\n",
    "\t\tRepo: v.const.REPO_NAME\n",
    "\t})\n",
    "\t\t.toPromise()\n",
    "\t\t.then(r => {\n",
    "\t\t\tif (r.data !== undefined && r.data.repository !== undefined) {\n",
    "\t\t\t\tfor (const [fileName, file] of files) {\n",
    "\t\t\t\t\tfile.content = r.data.repository[fileName].text;\t\t\t\t\t\n",
    "\t\t\t\t}\n",
    "\t\t\t}\n",
    "\t\t})\n",
    "\n",
    "\n",
    "\tconst promises = [res,];\n",
    "\tPromise.all(promises);\n",
    "\treturn files;\n",
    "}"
   ]
  },
  {
   "cell_type": "code",
   "execution_count": 11,
   "id": "34937f47",
   "metadata": {},
   "outputs": [
    {
     "data": {
      "text/plain": [
       "Map(2) {\n",
       "  'file1' => {\n",
       "    path: 'grafana/base/datasource.yaml',\n",
       "    content: 'apiVersion: integreatly.org/v1alpha1\\n' +\n",
       "      'kind: GrafanaDataSource\\n' +\n",
       "      'metadata:\\n' +\n",
       "      '  name: datasource\\n' +\n",
       "      'spec:\\n' +\n",
       "      '  name: prometheus-grafanadatasource.yaml\\n' +\n",
       "      '  datasources:\\n' +\n",
       "      '    - name: Prometheus\\n' +\n",
       "      '    - access: proxy\\n' +\n",
       "      '      editable: true\\n' +\n",
       "      '      isDefault: true\\n' +\n",
       "      '      jsonData:\\n' +\n",
       "      \"        httpHeaderName1: 'Authorization'\\n\" +\n",
       "      '        timeInterval: 5s\\n' +\n",
       "      '        tlsSkipVerify: true\\n' +\n",
       "      '      name: Prometheus\\n' +\n",
       "      '      secureJsonData:\\n' +\n",
       "      \"        httpHeaderValue1: 'Bearer ${BEARER_TOKEN}'\\n\" +\n",
       "      '      type: prometheus\\n' +\n",
       "      \"      url: 'https://thanos-querier.openshift-monitoring.svc.cluster.local:9091'\\n\",\n",
       "    updatedContent: ''\n",
       "  },\n",
       "  'file2' => {\n",
       "    path: 'grafana/base/grafana-route.yaml',\n",
       "    content: 'kind: Route\\n' +\n",
       "      'apiVersion: route.openshift.io/v1\\n' +\n",
       "      'metadata:\\n' +\n",
       "      '  name: grafana\\n' +\n",
       "      '  annotations:\\n' +\n",
       "      '    kubernetes.io/tls-acme: \"true\"\\n' +\n",
       "      'spec:\\n' +\n",
       "      '  host: grafana.operate-first.cloud\\n' +\n",
       "      '  to:\\n' +\n",
       "      '    kind: Service\\n' +\n",
       "      '    name: grafana-service\\n' +\n",
       "      '  port:\\n' +\n",
       "      '    targetPort: 3000\\n',\n",
       "    updatedContent: ''\n",
       "  }\n",
       "}"
      ]
     },
     "execution_count": 11,
     "metadata": {},
     "output_type": "execute_result"
    }
   ],
   "source": [
    "$$.async();\n",
    "{\n",
    "\tf.downloadFilesFromBranch(v.client, v.filesFromIssue, 'main');\n",
    "}"
   ]
  },
  {
   "cell_type": "markdown",
   "id": "7dc462b0",
   "metadata": {},
   "source": [
    "## Building the Prompt\n",
    "\n",
    "Now that we have the issue from GitHub, and have downloaded the necessary files, we can build the prompt.\n",
    "\n",
    "The following is an example prompt that would be sent to OpenAI;\n",
    "```\n",
    "\t==== BEGIN PROMPT ====\n",
    "\t# Listed below are:\n",
    "\t# 1. Explanation of how two files need to be changed\n",
    "\t# 2. The original files, separated by a '---' string\n",
    "\t# 3. An updated version of the files with the described changes, with each file separated by a '---' string\n",
    "\t# 4. A '####' string, indicating the end of this document\n",
    "\n",
    "\n",
    "\t## Description of issues:\n",
    "\t@file1:/path/to/file1\n",
    "\t@file2:/path/to/file2\n",
    "\n",
    "\tThe amount of CPU in @file1 needs to be increased to 512M\n",
    "\tThe PVC storage amount in @file2 should be decreased to 10Gi\n",
    "\n",
    "\t## Original files:\n",
    "\t# @file1\n",
    "\t<contents of file1>\n",
    "\t---\n",
    "\t# @file2\n",
    "\t<contents of file2>\n",
    "\n",
    "\t## Updated files:\n",
    "\t==== END PROMPT ====\n",
    "```\n"
   ]
  },
  {
   "cell_type": "code",
   "execution_count": 12,
   "id": "d012edcf",
   "metadata": {},
   "outputs": [
    {
     "data": {
      "text/plain": [
       "'# Listed below are:\\n' +\n",
       "  '# 1. Explanation of how two files need to be changed\\n' +\n",
       "  \"# 2. The original files, separated by a '---' string\\n\" +\n",
       "  \"# 3. An updated version of the files with the described changes, with each file separated by a '---' string\\n\" +\n",
       "  \"# 4. A '####' string, indicating the end of this document\\n\" +\n",
       "  '\\n' +\n",
       "  '\\n' +\n",
       "  '## Description of issues:\\n' +\n",
       "  '`@file1:grafana/base/datasource.yaml`\\n' +\n",
       "  '`@file2:grafana/base/grafana-route.yaml`\\n' +\n",
       "  '\\n' +\n",
       "  'The Prometheus data source needs to increase its `jsonData.timeInterval` from 5s to 10s. \\n' +\n",
       "  'Grafana-route needs to use `dev-grafana.operate-first.cloud` as its host, and use targetPort 3434. \\n' +\n",
       "  '\\n' +\n",
       "  '## Original files:\\n' +\n",
       "  '# @file1\\n' +\n",
       "  'apiVersion: integreatly.org/v1alpha1\\n' +\n",
       "  'kind: GrafanaDataSource\\n' +\n",
       "  'metadata:\\n' +\n",
       "  '  name: datasource\\n' +\n",
       "  'spec:\\n' +\n",
       "  '  name: prometheus-grafanadatasource.yaml\\n' +\n",
       "  '  datasources:\\n' +\n",
       "  '    - name: Prometheus\\n' +\n",
       "  '    - access: proxy\\n' +\n",
       "  '      editable: true\\n' +\n",
       "  '      isDefault: true\\n' +\n",
       "  '      jsonData:\\n' +\n",
       "  \"        httpHeaderName1: 'Authorization'\\n\" +\n",
       "  '        timeInterval: 5s\\n' +\n",
       "  '        tlsSkipVerify: true\\n' +\n",
       "  '      name: Prometheus\\n' +\n",
       "  '      secureJsonData:\\n' +\n",
       "  \"        httpHeaderValue1: 'Bearer ${BEARER_TOKEN}'\\n\" +\n",
       "  '      type: prometheus\\n' +\n",
       "  \"      url: 'https://thanos-querier.openshift-monitoring.svc.cluster.local:9091'\\n\" +\n",
       "  '\\n' +\n",
       "  '---\\n' +\n",
       "  '# @file2\\n' +\n",
       "  'kind: Route\\n' +\n",
       "  'apiVersion: route.openshift.io/v1\\n' +\n",
       "  'metadata:\\n' +\n",
       "  '  name: grafana\\n' +\n",
       "  '  annotations:\\n' +\n",
       "  '    kubernetes.io/tls-acme: \"true\"\\n' +\n",
       "  'spec:\\n' +\n",
       "  '  host: grafana.operate-first.cloud\\n' +\n",
       "  '  to:\\n' +\n",
       "  '    kind: Service\\n' +\n",
       "  '    name: grafana-service\\n' +\n",
       "  '  port:\\n' +\n",
       "  '    targetPort: 3000\\n' +\n",
       "  '\\n' +\n",
       "  '\\n' +\n",
       "  '## Updated files:\\n'"
      ]
     },
     "execution_count": 12,
     "metadata": {},
     "output_type": "execute_result"
    }
   ],
   "source": [
    "f.buildPrompt = (issue, files) => {\n",
    "\t/* Define the type of issue here since IJavaScript doesn't (easily) support TypeScript\n",
    "\ttype Issue = {\n",
    "\t\tnumber: number,\n",
    "\t\tbody: string,\n",
    "\t\ttitle: string,\n",
    "\t}\n",
    "\n",
    "\ttype files = Map<string, {\n",
    "\t\tpath: string,\n",
    "\t\tcontent: string,\n",
    "\t}>\n",
    "\t*/\n",
    "\t\n",
    "\tlet initialPrompt = `# Listed below are:\n",
    "# 1. Explanation of how two files need to be changed\n",
    "# 2. The original files, separated by a '---' string\n",
    "# 3. An updated version of the files with the described changes, with each file separated by a '---' string\n",
    "# 4. A '####' string, indicating the end of this document\n",
    "\n",
    "\n",
    "## Description of issues:\n",
    "${issue.body}\\n`;\n",
    "\n",
    "\t// append the files to the prompt\n",
    "\tinitialPrompt += `\n",
    "## Original files:\n",
    "`;\n",
    "\tlet i = 0 ;\n",
    "\tfor (const [fileName, file] of files) {\n",
    "\t\tinitialPrompt += `# @${fileName}\\n${file.content}\\n`;\n",
    "\t\t// only place the delimiting string if in-between files\n",
    "\t\tif (files.size > 1 && i < files.size - 1) {\n",
    "\t\t\tinitialPrompt += '---\\n';\n",
    "\t\t}\n",
    "\t\ti++;\n",
    "\t}\n",
    "\t\n",
    "\tinitialPrompt += `\n",
    "## Updated files:\n",
    "`;\n",
    "\treturn initialPrompt;\n",
    "};\n",
    "\n",
    "v.prompt = f.buildPrompt(v.asynced.issues[0], v.filesFromIssue);\n"
   ]
  },
  {
   "cell_type": "markdown",
   "id": "e8748b82",
   "metadata": {},
   "source": [
    "### Outputting the prompt\n",
    "\n",
    "For later purposes, we will save the prompt from above and place it in here for reference:\n",
    "\n",
    "```\n",
    "# Listed below are:\n",
    "# 1. Explanation of how two files need to be changed\n",
    "# 2. The original files, separated by a '---' string\n",
    "# 3. An updated version of the files with the described changes, with each file separated by a '---' string\n",
    "# 4. A '####' string, indicating the end of this document\n",
    "\n",
    "\n",
    "## Description of issues:\n",
    "`@file1:grafana/base/datasource.yaml`\n",
    "`@file2:grafana/base/grafana-route.yaml`\n",
    "\n",
    "The Prometheus data source needs to increase its `jsonData.timeInterval` from 5s to 10s. \n",
    "Grafana-route needs to use `dev-grafana.operate-first.cloud` as its host, and use targetPort 3434. \n",
    "\n",
    "## Original files:\n",
    "# @file1\n",
    "apiVersion: integreatly.org/v1alpha1\n",
    "kind: GrafanaDataSource\n",
    "metadata:\n",
    "  name: datasource\n",
    "spec:\n",
    "  name: prometheus-grafanadatasource.yaml\n",
    "  datasources:\n",
    "    - name: Prometheus\n",
    "    - access: proxy\n",
    "      editable: true\n",
    "      isDefault: true\n",
    "      jsonData:\n",
    "        httpHeaderName1: 'Authorization'\n",
    "        timeInterval: 5s\n",
    "        tlsSkipVerify: true\n",
    "      name: Prometheus\n",
    "      secureJsonData:\n",
    "        httpHeaderValue1: 'Bearer ${BEARER_TOKEN}'\n",
    "      type: prometheus\n",
    "      url: 'https://thanos-querier.openshift-monitoring.svc.cluster.local:9091'\n",
    "\n",
    "---\n",
    "# @file2\n",
    "kind: Route\n",
    "apiVersion: route.openshift.io/v1\n",
    "metadata:\n",
    "  name: grafana\n",
    "  annotations:\n",
    "    kubernetes.io/tls-acme: \"true\"\n",
    "spec:\n",
    "  host: grafana.operate-first.cloud\n",
    "  to:\n",
    "    kind: Service\n",
    "    name: grafana-service\n",
    "  port:\n",
    "    targetPort: 3000\n",
    "\n",
    "\n",
    "## Updated files:\n",
    "\n",
    "\n",
    "```"
   ]
  },
  {
   "cell_type": "markdown",
   "id": "699da300",
   "metadata": {},
   "source": [
    "## Generating New Files\n",
    "Now that our prompt has been built, we can send it off to OpenAI's Codex API.\n",
    "\n",
    "This will autocomplete our results and (hopefully) perform the necessary changes as described by the GitHub issue."
   ]
  },
  {
   "cell_type": "code",
   "execution_count": 13,
   "id": "a3f7df80",
   "metadata": {},
   "outputs": [
    {
     "data": {
      "text/plain": [
       "[Function (anonymous)]"
      ]
     },
     "execution_count": 13,
     "metadata": {},
     "output_type": "execute_result"
    }
   ],
   "source": [
    "f.completionToFiles = (completions, files) => {\n",
    "\t// go through the list of completions, extract the filename and set the updated content\n",
    "\tfor (const completion of completions) {``\n",
    "\t\t// extract the file tag from the completion\n",
    "\t\tconst fileTagRegex = /# \\@(.+)/g;\n",
    "\t\tconst match = fileTagRegex.exec(completion);\n",
    "\t\tif (match !== null) {\n",
    "\t\t\tconst fileTag = match[1];\n",
    "\t\t\tif (files.has(fileTag)) {\n",
    "\t\t\t\t// find the line containing the fileTag and remove all lines up to and including the fileTag \n",
    "\t\t\t\tconst lines = completion.split('\\n');\n",
    "\t\t\t\tlet i = 0;\n",
    "\t\t\t\tfor (const line of lines) {\n",
    "\t\t\t\t\ti++;\t\n",
    "\t\t\t\t\tif (line.includes(fileTag)) {\n",
    "\t\t\t\t\t\tbreak;\n",
    "\t\t\t\t\t}\n",
    "\t\t\t\t}\n",
    "\t\t\t\t// remove the lines from the completion\n",
    "\t\t\t\tconst newCompletion = lines.slice(i).join('\\n');\n",
    "\t\t\t\t// set the updated content\n",
    "\t\t\t\tfiles.get(fileTag).updatedContent = newCompletion;\n",
    "\t\t\t};\n",
    "\t\t}\n",
    "\t}\n",
    "};"
   ]
  },
  {
   "cell_type": "code",
   "execution_count": 14,
   "id": "793a4795",
   "metadata": {},
   "outputs": [
    {
     "data": {
      "text/plain": [
       "[AsyncFunction (anonymous)]"
      ]
     },
     "execution_count": 14,
     "metadata": {},
     "output_type": "execute_result"
    }
   ],
   "source": [
    "var axios = require('axios');\n",
    "f.getCompletion = async (prompt, maxTokens, stopSequences) => {\n",
    "\tstopSequences = stopSequences || v.const.OPENAI_STOP_SEQUENCES;\n",
    "\tconst headers = {\n",
    "\t\t\"Authorization\": `Bearer ${v.const.OPENAI_API_KEY}`,\n",
    "\t\t\"Content-Type\": \"application/json\",\n",
    "\t};\n",
    "\t// console.log(\"headers\", headers);\n",
    "\tconst body = {\n",
    "\t\tprompt: prompt,\n",
    "\t\tmax_tokens: maxTokens | 128,\n",
    "\t\tstop: stopSequences,\n",
    "\t\ttemperature: 0.12,\n",
    "\t\ttop_p: 1,\n",
    "\t\tfrequency_penalty: 0,\n",
    "\t\tpresence_penalty: 0,\n",
    "\t};\n",
    "\tlet completionFiles;\n",
    "\n",
    "\t// request the openai api using axios\n",
    "\tawait axios.post(v.const.OPENAI_API_URL, body, { headers }).then(async (response) => {\n",
    "\t\t// update the object with the competion result\n",
    "\t\tif (response.status == 200 && response.data.choices) {\n",
    "\t\t\t// awiat for response to be parsed\n",
    "\t\t\tif (response.data.choices.length > 0) {\n",
    "\t\t\t\tlet completion = response.data.choices[0].text;\n",
    "\t\t\t\t// split completion into files \n",
    "\t\t\t\tcompletionFiles = completion.split('---');\n",
    "\t\t\t} else {\n",
    "\t\t\t\tconsole.error(\"no completion found\");\n",
    "\t\t\t}\n",
    "\t\t}\n",
    "\t});\n",
    "\treturn completionFiles;\n",
    "};"
   ]
  },
  {
   "cell_type": "code",
   "execution_count": 15,
   "id": "4a22c964",
   "metadata": {},
   "outputs": [
    {
     "data": {
      "text/plain": [
       "[AsyncFunction (anonymous)]"
      ]
     },
     "execution_count": 15,
     "metadata": {},
     "output_type": "execute_result"
    }
   ],
   "source": [
    "// get a completion from OpenAI and use it to update the files\n",
    "f.updateFilesFromCompletion = async (files, prompt, maxTokens) => {\n",
    "\tconst completion = await f.getCompletion(prompt, maxTokens);\n",
    "\tv.completions = completion;\n",
    "\tf.completionToFiles(completion, files);\n",
    "}"
   ]
  },
  {
   "cell_type": "code",
   "execution_count": 16,
   "metadata": {},
   "outputs": [
    {
     "name": "stdout",
     "output_type": "stream",
     "text": [
      "file1:\n",
      "\n",
      "file2:\n",
      "\n"
     ]
    },
    {
     "data": {
      "text/plain": [
       "undefined"
      ]
     },
     "execution_count": 16,
     "metadata": {},
     "output_type": "execute_result"
    }
   ],
   "source": [
    "v.filesFromIssue.forEach((file, name) => {\n",
    "\tconsole.log(`${name}:\\n${file.updatedContent}`);\n",
    "});\n"
   ]
  },
  {
   "cell_type": "code",
   "execution_count": 17,
   "id": "b74913b3",
   "metadata": {},
   "outputs": [
    {
     "data": {
      "text/plain": [
       "undefined"
      ]
     },
     "execution_count": 17,
     "metadata": {},
     "output_type": "execute_result"
    }
   ],
   "source": [
    "$$.async();\n",
    "\n",
    "{\n",
    "\tf.updateFilesFromCompletion(v.filesFromIssue, v.prompt, 512);\n",
    "}"
   ]
  },
  {
   "cell_type": "markdown",
   "id": "1958ab8d",
   "metadata": {},
   "source": [
    "## Conversing With The Bot\n",
    "\n",
    "Sure we can generate content based on an issue, but what would we do if the bot wasn't happy with the results?\n",
    "There needs to be a way to have back-and-forth conversation with the bot, so that we can get the bot to sculpt the PR without needing to edit the files ourselves.\n",
    "\n",
    "We can modify the above prompt to take user-input for feedback. Since we're limited in the amount of data we can pass back-and-forth with OpenAI (4096 tokens in total),\n",
    "we'll need to compress the information from the conversation.\n",
    "\n",
    "We can try the following approaches:\n",
    "1. Add a comments section in the prompt above each file so we can just place the feedback with the corresponding file.\n",
    "2. Place the comments appended at the prompt prefixed with the filetag (e.g. `@file1`)\n",
    "\n",
    "\n",
    "### Working with Existing Data\n",
    "\n",
    "Not sure how things will work with the GitHub API but we'll cross that road when we get there. \n",
    "\n",
    "For the time being, we will resort to the following scenario:\n",
    "\n",
    "We started out with the following prompt originally:: \n",
    "\n",
    "```\n",
    "# Listed below are:\n",
    "# 1. Explanation of how two files need to be changed\n",
    "# 2. The original files, separated by a '---' string\n",
    "# 3. An updated version of the files with the described changes, with each file separated by a '---' string\n",
    "# 4. A '####' string, indicating the end of this document\n",
    "\n",
    "\n",
    "## Description of issues:\n",
    "`@file1:grafana/base/datasource.yaml`\n",
    "`@file2:grafana/base/grafana-route.yaml`\n",
    "\n",
    "The Prometheus data source needs to increase its `jsonData.timeInterval` from 5s to 10s. \n",
    "Grafana-route needs to use `dev-grafana.operate-first.cloud` as its host, and use targetPort 3434. \n",
    "\n",
    "## Original files:\n",
    "# @file1\n",
    "apiVersion: integreatly.org/v1alpha1\n",
    "kind: GrafanaDataSource\n",
    "metadata:\n",
    "  name: datasource\n",
    "spec:\n",
    "  name: prometheus-grafanadatasource.yaml\n",
    "  datasources:\n",
    "    - name: Prometheus\n",
    "    - access: proxy\n",
    "      editable: true\n",
    "      isDefault: true\n",
    "      jsonData:\n",
    "        httpHeaderName1: 'Authorization'\n",
    "        timeInterval: 5s\n",
    "        tlsSkipVerify: true\n",
    "      name: Prometheus\n",
    "      secureJsonData:\n",
    "        httpHeaderValue1: 'Bearer ${BEARER_TOKEN}'\n",
    "      type: prometheus\n",
    "      url: 'https://thanos-querier.openshift-monitoring.svc.cluster.local:9091'\n",
    "\n",
    "---\n",
    "# @file2\n",
    "kind: Route\n",
    "apiVersion: route.openshift.io/v1\n",
    "metadata:\n",
    "  name: grafana\n",
    "  annotations:\n",
    "    kubernetes.io/tls-acme: \"true\"\n",
    "spec:\n",
    "  host: grafana.operate-first.cloud\n",
    "  to:\n",
    "    kind: Service\n",
    "    name: grafana-service\n",
    "  port:\n",
    "    targetPort: 3000\n",
    "\n",
    "\n",
    "## Updated files:\n",
    "\n",
    "```\n",
    "\n",
    "\n",
    "And we received the following files as a response:\n",
    "```\n",
    "# @file1\n",
    "apiVersion: integreatly.org/v1alpha1\n",
    "kind: GrafanaDataSource\n",
    "metadata:\n",
    "  name: datasource\n",
    "spec:\n",
    "  name: prometheus-grafanadatasource.yaml\n",
    "  datasources:\n",
    "    - name: Prometheus\n",
    "    - access: proxy\n",
    "      editable: true\n",
    "      isDefault: true\n",
    "      jsonData:\n",
    "        httpHeaderName1: 'Authorization'\n",
    "        timeInterval: 10s\n",
    "        tlsSkipVerify: true\n",
    "      name: Prometheus\n",
    "      secureJsonData:\n",
    "        httpHeaderValue1: 'Bearer ${BEARER_TOKEN}'\n",
    "      type: prometheus\n",
    "      url: 'https://thanos-querier.openshift-monitoring.svc.cluster.local:9091'\n",
    "\n",
    "--- \n",
    "# @file2\n",
    "kind: Route\n",
    "apiVersion: route.openshift.io/v1\n",
    "metadata:\n",
    "  name: grafana\n",
    "  annotations:\n",
    "    kubernetes.io/tls-acme: \"true\"\n",
    "spec:\n",
    "  host: grafana.operate-first.cloud\n",
    "  to:\n",
    "    kind: Service\n",
    "    name: grafana-service\n",
    "  port:\n",
    "    targetPort: 3434\n",
    "```\n"
   ]
  },
  {
   "cell_type": "markdown",
   "id": "f8c7c4a2",
   "metadata": {},
   "source": [
    "### Approach #2: Appending Comments to Issue\n",
    "\n",
    "This approach seems to be more straightforward & scalable. \n",
    "We simply encapsulate the comments in a comment section, and append it to the issue.\n",
    "\n",
    "For the file inputs, we would use the updated versions that we received from OpenAI. \n",
    "\n",
    "Suppose that we saw the response from above, and recognized that the GrafanaDataSource needs an extra Prometheus datasource. We would then comment this on the issue tagging the file with the `@file1` tag:\n",
    "\n",
    "```\n",
    "`@file1` needs an extra Prometheus datasource pulling from this URL: `https://my.new.openshift.datasource.svc.cluster.local:9091`. This can use the same settings as the existing Prometheus datasource.\n",
    "```\n",
    "\n",
    "The above comment would be appended to the issue in prompt using the following format:\n",
    "\n",
    "```\n",
    "## Description of issues:\n",
    "`@file1:grafana/base/datasource.yaml`\n",
    "`@file2:grafana/base/grafana-route.yaml`\n",
    "\n",
    "The Prometheus data source needs to increase its `jsonData.timeInterval` from 5s to 10s. \n",
    "Grafana-route needs to use `dev-grafana.operate-first.cloud` as its host, and use targetPort 3434. \n",
    "\n",
    "Revisions:\n",
    "`@file1` needs an extra Prometheus datasource pulling from this URL: `https://my.new.openshift.datasource.svc.cluster.local:9091`. This can use the same settings as the existing Prometheus datasource.\n",
    "\n",
    "```"
   ]
  },
  {
   "cell_type": "code",
   "execution_count": 18,
   "id": "5b5760dd",
   "metadata": {},
   "outputs": [
    {
     "data": {
      "text/plain": [
       "'# Listed below are:\\n' +\n",
       "  '# 1. Explanation of how two files need to be changed\\n' +\n",
       "  \"# 2. The original files, separated by a '---' string\\n\" +\n",
       "  \"# 3. An updated version of the files with the described changes, with each file separated by a '---' string\\n\" +\n",
       "  \"# 4. A '####' string, indicating the end of this document\\n\" +\n",
       "  '## Description of issues:\\n' +\n",
       "  '`@file1:grafana/base/datasource.yaml`\\n' +\n",
       "  '`@file2:grafana/base/grafana-route.yaml`\\n' +\n",
       "  '\\n' +\n",
       "  '`@file1` needs an extra Prometheus datasource pulling from this URL: `https://my.new.openshift.datasource.svc.cluster.local:9091`. This can use the same settings as the existing Prometheus datasource.\\n' +\n",
       "  '\\n' +\n",
       "  '## Original files:\\n' +\n",
       "  '# @file1\\n' +\n",
       "  'apiVersion: integreatly.org/v1alpha1\\n' +\n",
       "  'kind: GrafanaDataSource\\n' +\n",
       "  'metadata:\\n' +\n",
       "  '  name: datasource\\n' +\n",
       "  'spec:\\n' +\n",
       "  '  name: prometheus-grafanadatasource.yaml\\n' +\n",
       "  '  datasources:\\n' +\n",
       "  '    - name: Prometheus\\n' +\n",
       "  '    - access: proxy\\n' +\n",
       "  '      editable: true\\n' +\n",
       "  '      isDefault: true\\n' +\n",
       "  '      jsonData:\\n' +\n",
       "  \"        httpHeaderName1: 'Authorization'\\n\" +\n",
       "  '        timeInterval: 10s\\n' +\n",
       "  '        tlsSkipVerify: true\\n' +\n",
       "  '      name: Prometheus\\n' +\n",
       "  '      secureJsonData:\\n' +\n",
       "  \"        httpHeaderValue1: 'Bearer ${BEARER_TOKEN}'\\n\" +\n",
       "  '      type: prometheus\\n' +\n",
       "  \"      url: 'https://thanos-querier.openshift-monitoring.svc.cluster.local:9091'\\n\" +\n",
       "  '---\\n' +\n",
       "  '# @file2\\n' +\n",
       "  'kind: Route\\n' +\n",
       "  'apiVersion: route.openshift.io/v1\\n' +\n",
       "  'metadata:\\n' +\n",
       "  '  name: grafana\\n' +\n",
       "  '  annotations:\\n' +\n",
       "  '    kubernetes.io/tls-acme: \"true\"\\n' +\n",
       "  'spec:\\n' +\n",
       "  '  host: grafana.operate-first.cloud\\n' +\n",
       "  '  to:\\n' +\n",
       "  '    kind: Service\\n' +\n",
       "  '    name: grafana-service\\n' +\n",
       "  '  port:\\n' +\n",
       "  '    targetPort: 3434\\n' +\n",
       "  '\\n' +\n",
       "  '## Updated Files:\\n'"
      ]
     },
     "execution_count": 18,
     "metadata": {},
     "output_type": "execute_result"
    }
   ],
   "source": [
    "\n",
    "v.prompt = `# Listed below are:\n",
    "# 1. Explanation of how two files need to be changed\n",
    "# 2. The original files, separated by a '---' string\n",
    "# 3. An updated version of the files with the described changes, with each file separated by a '---' string\n",
    "# 4. A '####' string, indicating the end of this document\n",
    "## Description of issues:\n",
    "\\`@file1:grafana/base/datasource.yaml\\`\n",
    "\\`@file2:grafana/base/grafana-route.yaml\\`\n",
    "\n",
    "\\`@file1\\` needs an extra Prometheus datasource pulling from this URL: \\`https://my.new.openshift.datasource.svc.cluster.local:9091\\`. This can use the same settings as the existing Prometheus datasource.\n",
    "\n",
    "## Original files:\n",
    "# @file1\n",
    "${v.filesFromIssue.get('file1').updatedContent.trim()}\n",
    "---\n",
    "# @file2\n",
    "${v.filesFromIssue.get('file2').updatedContent.trim()}\n",
    "\n",
    "## Updated Files:\n",
    "`;"
   ]
  },
  {
   "cell_type": "code",
   "execution_count": 19,
   "id": "a8ae472f",
   "metadata": {},
   "outputs": [
    {
     "data": {
      "text/plain": [
       "undefined"
      ]
     },
     "execution_count": 19,
     "metadata": {},
     "output_type": "execute_result"
    }
   ],
   "source": [
    "// fetch the new files\n",
    "$$.async();\n",
    "\n",
    "{\n",
    "\tf.updateFilesFromCompletion(v.filesFromIssue, v.prompt, 512);\n",
    "}"
   ]
  },
  {
   "cell_type": "markdown",
   "id": "9c01784c",
   "metadata": {},
   "source": [
    "#### Drumroll Please..."
   ]
  },
  {
   "cell_type": "code",
   "execution_count": 20,
   "id": "a4b72768",
   "metadata": {},
   "outputs": [
    {
     "name": "stdout",
     "output_type": "stream",
     "text": [
      "file1:\n",
      "apiVersion: integreatly.org/v1alpha1\n",
      "kind: GrafanaDataSource\n",
      "metadata:\n",
      "  name: datasource\n",
      "spec:\n",
      "  name: prometheus-grafanadatasource.yaml\n",
      "  datasources:\n",
      "    - name: Prometheus\n",
      "    - access: proxy\n",
      "      editable: true\n",
      "      isDefault: true\n",
      "      jsonData:\n",
      "        httpHeaderName1: 'Authorization'\n",
      "        timeInterval: 10s\n",
      "        tlsSkipVerify: true\n",
      "      name: Prometheus\n",
      "      secureJsonData:\n",
      "        httpHeaderValue1: 'Bearer ${BEARER_TOKEN}'\n",
      "      type: prometheus\n",
      "      url: 'https://my.new.openshift.datasource.svc.cluster.local:9091'\n",
      "\n",
      "file2:\n",
      "kind: Route\n",
      "apiVersion: route.openshift.io/v1\n",
      "metadata:\n",
      "  name: grafana\n",
      "  annotations:\n",
      "    kubernetes.io/tls-acme: \"true\"\n",
      "spec:\n",
      "  host: grafana.operate-first.cloud\n",
      "  to:\n",
      "    kind: Service\n",
      "    name: grafana-service\n",
      "  port:\n",
      "    targetPort: 3434\n",
      "\n",
      "\n"
     ]
    },
    {
     "data": {
      "text/plain": [
       "undefined"
      ]
     },
     "execution_count": 20,
     "metadata": {},
     "output_type": "execute_result"
    }
   ],
   "source": [
    "v.filesFromIssue.forEach((file, name) => {\n",
    "\tconsole.log(`${name}:\\n${file.updatedContent}`);\n",
    "});"
   ]
  },
  {
   "cell_type": "code",
   "execution_count": 21,
   "id": "7b43020b",
   "metadata": {},
   "outputs": [
    {
     "data": {
      "text/plain": [
       "Map(2) {\n",
       "  'file1' => {\n",
       "    path: 'grafana/base/datasource.yaml',\n",
       "    content: 'apiVersion: integreatly.org/v1alpha1\\n' +\n",
       "      'kind: GrafanaDataSource\\n' +\n",
       "      'metadata:\\n' +\n",
       "      '  name: datasource\\n' +\n",
       "      'spec:\\n' +\n",
       "      '  name: prometheus-grafanadatasource.yaml\\n' +\n",
       "      '  datasources:\\n' +\n",
       "      '    - name: Prometheus\\n' +\n",
       "      '    - access: proxy\\n' +\n",
       "      '      editable: true\\n' +\n",
       "      '      isDefault: true\\n' +\n",
       "      '      jsonData:\\n' +\n",
       "      \"        httpHeaderName1: 'Authorization'\\n\" +\n",
       "      '        timeInterval: 5s\\n' +\n",
       "      '        tlsSkipVerify: true\\n' +\n",
       "      '      name: Prometheus\\n' +\n",
       "      '      secureJsonData:\\n' +\n",
       "      \"        httpHeaderValue1: 'Bearer ${BEARER_TOKEN}'\\n\" +\n",
       "      '      type: prometheus\\n' +\n",
       "      \"      url: 'https://thanos-querier.openshift-monitoring.svc.cluster.local:9091'\\n\",\n",
       "    updatedContent: 'apiVersion: integreatly.org/v1alpha1\\n' +\n",
       "      'kind: GrafanaDataSource\\n' +\n",
       "      'metadata:\\n' +\n",
       "      '  name: datasource\\n' +\n",
       "      'spec:\\n' +\n",
       "      '  name: prometheus-grafanadatasource.yaml\\n' +\n",
       "      '  datasources:\\n' +\n",
       "      '    - name: Prometheus\\n' +\n",
       "      '    - access: proxy\\n' +\n",
       "      '      editable: true\\n' +\n",
       "      '      isDefault: true\\n' +\n",
       "      '      jsonData:\\n' +\n",
       "      \"        httpHeaderName1: 'Authorization'\\n\" +\n",
       "      '        timeInterval: 10s\\n' +\n",
       "      '        tlsSkipVerify: true\\n' +\n",
       "      '      name: Prometheus\\n' +\n",
       "      '      secureJsonData:\\n' +\n",
       "      \"        httpHeaderValue1: 'Bearer ${BEARER_TOKEN}'\\n\" +\n",
       "      '      type: prometheus\\n' +\n",
       "      \"      url: 'https://my.new.openshift.datasource.svc.cluster.local:9091'\\n\"\n",
       "  },\n",
       "  'file2' => {\n",
       "    path: 'grafana/base/grafana-route.yaml',\n",
       "    content: 'kind: Route\\n' +\n",
       "      'apiVersion: route.openshift.io/v1\\n' +\n",
       "      'metadata:\\n' +\n",
       "      '  name: grafana\\n' +\n",
       "      '  annotations:\\n' +\n",
       "      '    kubernetes.io/tls-acme: \"true\"\\n' +\n",
       "      'spec:\\n' +\n",
       "      '  host: grafana.operate-first.cloud\\n' +\n",
       "      '  to:\\n' +\n",
       "      '    kind: Service\\n' +\n",
       "      '    name: grafana-service\\n' +\n",
       "      '  port:\\n' +\n",
       "      '    targetPort: 3000\\n',\n",
       "    updatedContent: 'kind: Route\\n' +\n",
       "      'apiVersion: route.openshift.io/v1\\n' +\n",
       "      'metadata:\\n' +\n",
       "      '  name: grafana\\n' +\n",
       "      '  annotations:\\n' +\n",
       "      '    kubernetes.io/tls-acme: \"true\"\\n' +\n",
       "      'spec:\\n' +\n",
       "      '  host: grafana.operate-first.cloud\\n' +\n",
       "      '  to:\\n' +\n",
       "      '    kind: Service\\n' +\n",
       "      '    name: grafana-service\\n' +\n",
       "      '  port:\\n' +\n",
       "      '    targetPort: 3434\\n' +\n",
       "      '\\n'\n",
       "  }\n",
       "}"
      ]
     },
     "execution_count": 21,
     "metadata": {},
     "output_type": "execute_result"
    }
   ],
   "source": [
    "v.filesFromIssue"
   ]
  }
 ],
 "metadata": {
  "kernelspec": {
   "display_name": "JavaScript (Node.js)",
   "language": "javascript",
   "name": "javascript"
  },
  "language_info": {
   "file_extension": ".js",
   "mimetype": "application/javascript",
   "name": "javascript",
   "version": "16.13.1"
  }
 },
 "nbformat": 4,
 "nbformat_minor": 5
}
