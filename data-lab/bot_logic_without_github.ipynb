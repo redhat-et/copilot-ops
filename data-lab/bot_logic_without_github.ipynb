{
 "cells": [
  {
   "cell_type": "code",
   "execution_count": 1,
   "metadata": {},
   "outputs": [
    {
     "data": {
      "text/plain": [
       "undefined"
      ]
     },
     "execution_count": 1,
     "metadata": {},
     "output_type": "execute_result"
    }
   ],
   "source": [
    "// declare our variables up here\n",
    "let prompt;\n",
    "let files;\n",
    "let issue;\n"
   ]
  },
  {
   "cell_type": "code",
   "execution_count": 5,
   "metadata": {},
   "outputs": [
    {
     "data": {
      "text/plain": [
       "'@file1:/path/to/file1\\n' +\n",
       "  '@file2:/path/to/file2\\n' +\n",
       "  '\\n' +\n",
       "  'The amount of CPU in @file1 needs to be increased to 512M\\n' +\n",
       "  'The PVC storage amount in @file2 should be decreased to 10Gi\\n'"
      ]
     },
     "execution_count": 5,
     "metadata": {},
     "output_type": "execute_result"
    }
   ],
   "source": [
    "issue = `@file1:/path/to/file1\n",
    "@file2:/path/to/file2\n",
    "\n",
    "The amount of CPU in @file1 needs to be increased to 512M\n",
    "The PVC storage amount in @file2 should be decreased to 10Gi\n",
    "`;"
   ]
  },
  {
   "cell_type": "code",
   "execution_count": null,
   "metadata": {},
   "outputs": [],
   "source": [
    "files = new Map([\n",
    "  ['file1', {\n",
    "    path: 'grafana/base/datasource.yaml',\n",
    "    content: 'apiVersion: integreatly.org/v1alpha1\\n' +\n",
    "      'kind: GrafanaDataSource\\n' +\n",
    "      'metadata:\\n' +\n",
    "      '  name: datasource\\n' +\n",
    "      'spec:\\n' +\n",
    "      '  name: prometheus-grafanadatasource.yaml\\n' +\n",
    "      '  datasources:\\n' +\n",
    "      '    - name: Prometheus\\n' +\n",
    "      '    - access: proxy\\n' +\n",
    "      '      editable: true\\n' +\n",
    "      '      isDefault: true\\n' +\n",
    "      '      jsonData:\\n' +\n",
    "      \"        httpHeaderName1: 'Authorization'\\n\" +\n",
    "      '        timeInterval: 5s\\n' +\n",
    "      '        tlsSkipVerify: true\\n' +\n",
    "      '      name: Prometheus\\n' +\n",
    "      '      secureJsonData:\\n' +\n",
    "      \"        httpHeaderValue1: 'Bearer ${BEARER_TOKEN}'\\n\" +\n",
    "      '      type: prometheus\\n' +\n",
    "      \"      url: 'https://thanos-querier.openshift-monitoring.svc.cluster.local:9091'\\n\",\n",
    "    updatedContent: 'apiVersion: integreatly.org/v1alpha1\\n' +\n",
    "      'kind: GrafanaDataSource\\n' +\n",
    "      'metadata:\\n' +\n",
    "      '  name: datasource\\n' +\n",
    "      'spec:\\n' +\n",
    "      '  name: prometheus-grafanadatasource.yaml\\n' +\n",
    "      '  datasources:\\n' +\n",
    "      '    - name: Prometheus\\n' +\n",
    "      '    - access: proxy\\n' +\n",
    "      '      editable: true\\n' +\n",
    "      '      isDefault: true\\n' +\n",
    "      '      jsonData:\\n' +\n",
    "      \"        httpHeaderName1: 'Authorization'\\n\" +\n",
    "      '        timeInterval: 10s\\n' +\n",
    "      '        tlsSkipVerify: true\\n' +\n",
    "      '      name: Prometheus\\n' +\n",
    "      '      secureJsonData:\\n' +\n",
    "      \"        httpHeaderValue1: 'Bearer ${BEARER_TOKEN}'\\n\" +\n",
    "      '      type: prometheus\\n' +\n",
    "      \"      url: 'https://my.new.openshift.datasource.svc.cluster.local:9091'\\n\"\n",
    "  }],\n",
    "  ['file2', {\n",
    "    path: 'grafana/base/grafana-route.yaml',\n",
    "    content: 'kind: Route\\n' +\n",
    "      'apiVersion: route.openshift.io/v1\\n' +\n",
    "      'metadata:\\n' +\n",
    "      '  name: grafana\\n' +\n",
    "      '  annotations:\\n' +\n",
    "      '    kubernetes.io/tls-acme: \"true\"\\n' +\n",
    "      'spec:\\n' +\n",
    "      '  host: grafana.operate-first.cloud\\n' +\n",
    "      '  to:\\n' +\n",
    "      '    kind: Service\\n' +\n",
    "      '    name: grafana-service\\n' +\n",
    "      '  port:\\n' +\n",
    "      '    targetPort: 3000\\n',\n",
    "    updatedContent: 'kind: Route\\n' +\n",
    "      'apiVersion: route.openshift.io/v1\\n' +\n",
    "      'metadata:\\n' +\n",
    "      '  name: grafana\\n' +\n",
    "      '  annotations:\\n' +\n",
    "      '    kubernetes.io/tls-acme: \"true\"\\n' +\n",
    "      'spec:\\n' +\n",
    "      '  host: grafana.operate-first.cloud\\n' +\n",
    "      '  to:\\n' +\n",
    "      '    kind: Service\\n' +\n",
    "      '    name: grafana-service\\n' +\n",
    "      '  port:\\n' +\n",
    "      '    targetPort: 3434\\n' +\n",
    "      '\\n'\n",
    "  }]\n",
    "]);"
   ]
  }
 ],
 "metadata": {
  "kernelspec": {
   "display_name": "JavaScript (Node.js)",
   "language": "javascript",
   "name": "javascript"
  },
  "language_info": {
   "file_extension": ".js",
   "mimetype": "application/javascript",
   "name": "javascript",
   "version": "16.13.1"
  },
  "orig_nbformat": 4
 },
 "nbformat": 4,
 "nbformat_minor": 2
}
