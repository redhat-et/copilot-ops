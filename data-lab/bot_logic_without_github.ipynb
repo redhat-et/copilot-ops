{
 "cells": [
  {
   "cell_type": "code",
   "execution_count": 2,
   "metadata": {},
   "outputs": [
    {
     "data": {
      "text/plain": [
       "undefined"
      ]
     },
     "execution_count": 2,
     "metadata": {},
     "output_type": "execute_result"
    }
   ],
   "source": [
    "// declare our variables up here\n",
    "let prompt, files, issue, i, examples;\n",
    "const OPENAI_API_URL = 'https://api.openai.com/v1/engines/code-davinci-001/completions';\n"
   ]
  },
  {
   "cell_type": "code",
   "execution_count": 3,
   "metadata": {},
   "outputs": [
    {
     "data": {
      "text/plain": [
       "'@file1:/path/to/file1\\n' +\n",
       "  '@file2:/path/to/file2\\n' +\n",
       "  '\\n' +\n",
       "  'The amount of CPU in @file1 needs to be increased to 512M\\n' +\n",
       "  'The PVC storage amount in @file2 should be decreased to 10Gi\\n'"
      ]
     },
     "execution_count": 3,
     "metadata": {},
     "output_type": "execute_result"
    }
   ],
   "source": [
    "issue = `@file1:/path/to/file1\n",
    "@file2:/path/to/file2\n",
    "\n",
    "The amount of CPU in @file1 needs to be increased to 512M\n",
    "The PVC storage amount in @file2 should be decreased to 10Gi\n",
    "`;"
   ]
  },
  {
   "cell_type": "markdown",
   "metadata": {},
   "source": [
    "## Reading File Data\n",
    "We'll use an `examples` directory to describe our scenarios. Every scenario consists of a directory called `files` containing the initial files that we'll be referencing, and a `issues` directory consisting of subdirectories named by the issue numbers, e.g. `issues/1`, `issues/2`, etc. Under each subdirectory, there is an `issue.md` file describing the changes to be made, and a `completions` directory where the files will be written to after being updated.\n",
    "\n",
    "\n",
    "For example:\n",
    "\n",
    "```\n",
    "files/\n",
    "\tREADME.md\n",
    "\tindex.js\n",
    "\tpackage.json\n",
    "\tpackage-lock.json\n",
    "issues/\n",
    "\t1/\n",
    "\t\tissue.md\n",
    "\t\tcompletions/\n",
    "\t\t\tindex.js\n",
    "\t\t\tpackage.json\n",
    "\t2/\n",
    "\t\tissue.md\n",
    "\t\tcompletions/\n",
    "\t\t\tREADME.md\n",
    "\t\t\tpackage-lock.json\n",
    "\t3/\n",
    "\t\tissue.md\n",
    "\t\tcompletions/\n",
    "\t\t\tREADME.md\n",
    "\t\t\tindex.js\n",
    "\t\t\tpackage.json\n",
    "```\n",
    "\n"
   ]
  },
  {
   "cell_type": "code",
   "execution_count": 4,
   "metadata": {},
   "outputs": [
    {
     "data": {
      "text/plain": [
       "undefined"
      ]
     },
     "execution_count": 4,
     "metadata": {},
     "output_type": "execute_result"
    }
   ],
   "source": [
    "// import libraries\n",
    "const path = require('path');\n",
    "const fs = require('fs');"
   ]
  },
  {
   "cell_type": "code",
   "execution_count": 5,
   "metadata": {},
   "outputs": [
    {
     "data": {
      "text/plain": [
       "undefined"
      ]
     },
     "execution_count": 5,
     "metadata": {},
     "output_type": "execute_result"
    }
   ],
   "source": [
    "// list out the contents of the current directory\n",
    "let localFiles = fs.readdirSync('./examples');"
   ]
  },
  {
   "cell_type": "code",
   "execution_count": 6,
   "metadata": {},
   "outputs": [
    {
     "data": {
      "text/plain": [
       "undefined"
      ]
     },
     "execution_count": 6,
     "metadata": {},
     "output_type": "execute_result"
    }
   ],
   "source": [
    "// return a map of {fileName => {path: path, content: content}}\n",
    "const getFilesFromIssue = (issue) => {\n",
    "\t// extract a map of the files from the issue based on the following regex:\n",
    "\t// /`(@([a-zA-Z0-9_\\-]+):(.+))`/g\n",
    "\tconst fileRegex = /`(@([a-zA-Z0-9_\\-]+):(.+))`/g;\n",
    "\t// create a map from the filename to the filepath\n",
    "\tconst fileMap = new Map();\n",
    "\t// extract the string from group 3 of the regex\n",
    "\tlet match;\n",
    "\twhile (match = fileRegex.exec(issue)) {\n",
    "\t\tlet [name, path] = [match[2], match[3]];\n",
    "\t\tif (!fileMap.has(name)) {\n",
    "\t\t\t// define the file object here \n",
    "\t\t\tfileMap.set(name, {\n",
    "\t\t\t\tpath: path,\n",
    "\t\t\t\tcontent: '',\n",
    "\t\t\t\tupdatedContent: '',\n",
    "\t\t\t});\n",
    "\t\t} else {\n",
    "\t\t\tconsole.error(`duplicate file name ${name}`);\n",
    "\t\t}\n",
    "\t}\n",
    "\treturn fileMap;\n",
    "}\n"
   ]
  },
  {
   "cell_type": "code",
   "execution_count": 7,
   "metadata": {},
   "outputs": [
    {
     "data": {
      "text/plain": [
       "undefined"
      ]
     },
     "execution_count": 7,
     "metadata": {},
     "output_type": "execute_result"
    }
   ],
   "source": [
    "let getFilenamesFromIssue;"
   ]
  },
  {
   "cell_type": "code",
   "execution_count": 8,
   "metadata": {},
   "outputs": [
    {
     "data": {
      "text/plain": [
       "undefined"
      ]
     },
     "execution_count": 8,
     "metadata": {},
     "output_type": "execute_result"
    }
   ],
   "source": [
    "const populateFiles = (fileMap, rootDir) => {\n",
    "\t// look through the fileMap and read the contents of the file at the given path\n",
    "\tfor (const [_, file] of fileMap) {\n",
    "\t\tlet searchPath = path.join(rootDir, file.path);\n",
    "\t\tfile.content = fs.readFileSync(searchPath, 'utf8');\n",
    "\t}\n",
    "\treturn fileMap;\n",
    "}"
   ]
  },
  {
   "cell_type": "code",
   "execution_count": 9,
   "metadata": {},
   "outputs": [
    {
     "data": {
      "text/plain": [
       "undefined"
      ]
     },
     "execution_count": 9,
     "metadata": {},
     "output_type": "execute_result"
    }
   ],
   "source": [
    "let getIssuesForDirectory;"
   ]
  },
  {
   "cell_type": "code",
   "execution_count": 10,
   "metadata": {},
   "outputs": [
    {
     "data": {
      "text/plain": [
       "[Function: getIssuesForDirectory]"
      ]
     },
     "execution_count": 10,
     "metadata": {},
     "output_type": "execute_result"
    }
   ],
   "source": [
    "getIssuesForDirectory = (dir) => {\n",
    "\t/* return a list of issue objects of the form: \n",
    "\t\t{\n",
    "\t\t\trelevantFiles: string[],\n",
    "\t\t\tcontent: string,\n",
    "\t\t\tissueNumber: number\n",
    "\t\t}\n",
    "\t*/ \n",
    "\tlet issues = fs.readdirSync(dir).map((issueNo) => {\n",
    "\t\tlet issuePath = path.join(dir, issueNo);\n",
    "\t\tlet issue = fs.readFileSync(path.join(issuePath, 'issue.md'), 'utf8');\n",
    "\t\treturn {\n",
    "\t\t\trelevantFiles: getFilesFromIssue(issue),\n",
    "\t\t\tcontent: issue,\n",
    "\t\t\t// convert the issueNo to a number\n",
    "\t\t\tissueNumber: parseInt(issueNo)\n",
    "\t\t};\n",
    "\t});\n",
    "\t// sort the issues by issue number\n",
    "\tissues.sort((a, b) => a.issueNumber - b.issueNumber);\n",
    "\treturn issues;\n",
    "}"
   ]
  },
  {
   "cell_type": "code",
   "execution_count": 11,
   "metadata": {},
   "outputs": [
    {
     "name": "stdout",
     "output_type": "stream",
     "text": [
      "[\n",
      "  {\n",
      "    relevantFiles: Map(2) { 'file1' => [Object], 'file2' => [Object] },\n",
      "    content: '`@file1:grafana/base/datasource.yaml`\\n' +\n",
      "      '`@file2:grafana/base/grafana-route.yaml`\\n' +\n",
      "      '\\n' +\n",
      "      '@file1 and @file2 must specify the `grafana-datasource` namespace.\\n' +\n",
      "      \"@file1 needs to increase the 'Prometheus' data source to a time interval of 20s.\\n\" +\n",
      "      'Disable tls-acme for @file2.\\n',\n",
      "    issueNumber: 1\n",
      "  }\n",
      "]\n",
      "Map(2) {\n",
      "  'file1' => {\n",
      "    path: 'grafana/base/datasource.yaml',\n",
      "    content: '',\n",
      "    updatedContent: ''\n",
      "  },\n",
      "  'file2' => {\n",
      "    path: 'grafana/base/grafana-route.yaml',\n",
      "    content: '',\n",
      "    updatedContent: ''\n",
      "  }\n",
      "}\n"
     ]
    },
    {
     "data": {
      "text/plain": [
       "undefined"
      ]
     },
     "execution_count": 11,
     "metadata": {},
     "output_type": "execute_result"
    }
   ],
   "source": [
    "// call getIssuesForDirectory with the current directory\n",
    "console.log(getIssuesForDirectory('./examples/simple-prometheus-update/issues'));\n",
    "console.log(getIssuesForDirectory('./examples/simple-prometheus-update/issues')[0].relevantFiles);"
   ]
  },
  {
   "cell_type": "code",
   "execution_count": 12,
   "metadata": {},
   "outputs": [
    {
     "name": "stdout",
     "output_type": "stream",
     "text": [
      "simple-prometheus-update\n",
      "first item in issues {\n",
      "  relevantFiles: Map(2) {\n",
      "    'file1' => {\n",
      "      path: 'grafana/base/datasource.yaml',\n",
      "      content: '',\n",
      "      updatedContent: ''\n",
      "    },\n",
      "    'file2' => {\n",
      "      path: 'grafana/base/grafana-route.yaml',\n",
      "      content: '',\n",
      "      updatedContent: ''\n",
      "    }\n",
      "  },\n",
      "  content: '`@file1:grafana/base/datasource.yaml`\\n' +\n",
      "    '`@file2:grafana/base/grafana-route.yaml`\\n' +\n",
      "    '\\n' +\n",
      "    '@file1 and @file2 must specify the `grafana-datasource` namespace.\\n' +\n",
      "    \"@file1 needs to increase the 'Prometheus' data source to a time interval of 20s.\\n\" +\n",
      "    'Disable tls-acme for @file2.\\n',\n",
      "  issueNumber: 1\n",
      "}\n",
      "Map(1) {\n",
      "  'simple-prometheus-update' => {\n",
      "    issues: [ [Object] ],\n",
      "    files: Map(2) { 'file1' => [Object], 'file2' => [Object] }\n",
      "  }\n",
      "}\n"
     ]
    },
    {
     "data": {
      "text/plain": [
       "undefined"
      ]
     },
     "execution_count": 12,
     "metadata": {},
     "output_type": "execute_result"
    }
   ],
   "source": [
    "examples = new Map();\n",
    "// loop through local files in ./examples\n",
    "// examples is a directory \n",
    "for (const dirname of fs.readdirSync('./examples')) {\n",
    "\tconsole.log(dirname);\n",
    "\texamples.set(dirname, {\n",
    "\t\tissues: [],\t// list of issues, sorted by their number\n",
    "\t})\n",
    "\n",
    "\tlet issueDir = path.join('./examples', dirname, 'issues');\n",
    "\texamples.get(dirname).issues = getIssuesForDirectory(issueDir);\n",
    "\tif (examples.get(dirname).issues.length === 0) {\n",
    "\t\t// no issues, so skip this directory\n",
    "\t\tcontinue;\n",
    "\t}\n",
    "\tlet firstIssue = examples.get(dirname).issues[0];\n",
    "\tconsole.log(\"first item in issues\", firstIssue);\n",
    "\t// populate the files map\n",
    "\texamples.get(dirname).files = getFilesFromIssue(firstIssue.content);\n",
    "\tpopulateFiles(examples.get(dirname).files, path.join('./examples', dirname, 'files'));\n",
    "}\n",
    "console.log(examples);"
   ]
  },
  {
   "cell_type": "code",
   "execution_count": 13,
   "metadata": {},
   "outputs": [
    {
     "data": {
      "text/plain": [
       "Map(2) {\n",
       "  'file1' => {\n",
       "    path: 'grafana/base/datasource.yaml',\n",
       "    content: 'apiVersion: integreatly.org/v1alpha1\\n' +\n",
       "      'kind: GrafanaDataSource\\n' +\n",
       "      'metadata:\\n' +\n",
       "      '  name: datasource\\n' +\n",
       "      'spec:\\n' +\n",
       "      '  name: prometheus-grafanadatasource.yaml\\n' +\n",
       "      '  datasources:\\n' +\n",
       "      '    - name: Prometheus\\n' +\n",
       "      '    - access: proxy\\n' +\n",
       "      '      editable: true\\n' +\n",
       "      '      isDefault: true\\n' +\n",
       "      '      jsonData:\\n' +\n",
       "      \"        httpHeaderName1: 'Authorization'\\n\" +\n",
       "      '        timeInterval: 5s\\n' +\n",
       "      '        tlsSkipVerify: true\\n' +\n",
       "      '      name: Prometheus\\n' +\n",
       "      '      secureJsonData:\\n' +\n",
       "      \"        httpHeaderValue1: 'Bearer ${BEARER_TOKEN}'\\n\" +\n",
       "      '      type: prometheus\\n' +\n",
       "      \"      url: 'https://thanos-querier.openshift-monitoring.svc.cluster.local:9091'\\n\",\n",
       "    updatedContent: ''\n",
       "  },\n",
       "  'file2' => {\n",
       "    path: 'grafana/base/grafana-route.yaml',\n",
       "    content: 'kind: Route\\n' +\n",
       "      'apiVersion: route.openshift.io/v1\\n' +\n",
       "      'metadata:\\n' +\n",
       "      '  name: grafana\\n' +\n",
       "      '  annotations:\\n' +\n",
       "      '    kubernetes.io/tls-acme: \"true\"\\n' +\n",
       "      'spec:\\n' +\n",
       "      '  host: grafana.operate-first.cloud\\n' +\n",
       "      '  to:\\n' +\n",
       "      '    kind: Service\\n' +\n",
       "      '    name: grafana-service\\n' +\n",
       "      '  port:\\n' +\n",
       "      '    targetPort: 3000\\n',\n",
       "    updatedContent: ''\n",
       "  }\n",
       "}"
      ]
     },
     "execution_count": 13,
     "metadata": {},
     "output_type": "execute_result"
    }
   ],
   "source": [
    "files = new Map([\n",
    "  ['file1', {\n",
    "    path: 'grafana/base/datasource.yaml',\n",
    "    content: 'apiVersion: integreatly.org/v1alpha1\\n' +\n",
    "      'kind: GrafanaDataSource\\n' +\n",
    "      'metadata:\\n' +\n",
    "      '  name: datasource\\n' +\n",
    "      'spec:\\n' +\n",
    "      '  name: prometheus-grafanadatasource.yaml\\n' +\n",
    "      '  datasources:\\n' +\n",
    "      '    - name: Prometheus\\n' +\n",
    "      '    - access: proxy\\n' +\n",
    "      '      editable: true\\n' +\n",
    "      '      isDefault: true\\n' +\n",
    "      '      jsonData:\\n' +\n",
    "      \"        httpHeaderName1: 'Authorization'\\n\" +\n",
    "      '        timeInterval: 5s\\n' +\n",
    "      '        tlsSkipVerify: true\\n' +\n",
    "      '      name: Prometheus\\n' +\n",
    "      '      secureJsonData:\\n' +\n",
    "      \"        httpHeaderValue1: 'Bearer ${BEARER_TOKEN}'\\n\" +\n",
    "      '      type: prometheus\\n' +\n",
    "      \"      url: 'https://thanos-querier.openshift-monitoring.svc.cluster.local:9091'\\n\",\n",
    "    updatedContent: ''\n",
    "  }],\n",
    "  ['file2', {\n",
    "    path: 'grafana/base/grafana-route.yaml',\n",
    "    content: 'kind: Route\\n' +\n",
    "      'apiVersion: route.openshift.io/v1\\n' +\n",
    "      'metadata:\\n' +\n",
    "      '  name: grafana\\n' +\n",
    "      '  annotations:\\n' +\n",
    "      '    kubernetes.io/tls-acme: \"true\"\\n' +\n",
    "      'spec:\\n' +\n",
    "      '  host: grafana.operate-first.cloud\\n' +\n",
    "      '  to:\\n' +\n",
    "      '    kind: Service\\n' +\n",
    "      '    name: grafana-service\\n' +\n",
    "      '  port:\\n' +\n",
    "      '    targetPort: 3000\\n',\n",
    "    updatedContent: ''\n",
    "  }]\n",
    "]);"
   ]
  },
  {
   "cell_type": "markdown",
   "metadata": {},
   "source": [
    "## Building the prompt"
   ]
  },
  {
   "cell_type": "code",
   "execution_count": 14,
   "metadata": {},
   "outputs": [
    {
     "data": {
      "text/plain": [
       "undefined"
      ]
     },
     "execution_count": 14,
     "metadata": {},
     "output_type": "execute_result"
    }
   ],
   "source": [
    "let buildPrompt;"
   ]
  },
  {
   "cell_type": "code",
   "execution_count": 15,
   "metadata": {},
   "outputs": [
    {
     "data": {
      "text/plain": [
       "[Function: buildPrompt]"
      ]
     },
     "execution_count": 15,
     "metadata": {},
     "output_type": "execute_result"
    }
   ],
   "source": [
    "// @issue: string\n",
    "// @files: map of {fileName: string => {path: string, content: string, updatedContent: string}}\n",
    "buildPrompt = (issue, files) => {\n",
    "\t// read the prefix from 'prefix.md'\n",
    "\tconst prefix = fs.readFileSync('./prefix.md', 'utf8');\n",
    "\n",
    "\n",
    "\tlet prompt = `${prefix}\n",
    "## Description of issues:\n",
    "${issue}\n",
    "\n",
    "## Original files:\n",
    "`;\n",
    "\n",
    "\ti = 0;\n",
    "\tfor (const [fileName, file] of files) {\n",
    "\t\tprompt += `# @${fileName}\\n${file.content}\\n`;\n",
    "\t\t// only place the delimiting string if in-between files\n",
    "\t\tif (files.size > 1 && i < files.size - 1) {\n",
    "\t\t\tprompt += '---\\n';\n",
    "\t\t}\n",
    "\t\ti++;\n",
    "\t}\n",
    "\n",
    "\tprompt += `\n",
    "## Updated files:\n",
    "`;\n",
    "\treturn prompt;\n",
    "}"
   ]
  },
  {
   "cell_type": "code",
   "execution_count": 16,
   "metadata": {},
   "outputs": [
    {
     "data": {
      "text/plain": [
       "undefined"
      ]
     },
     "execution_count": 16,
     "metadata": {},
     "output_type": "execute_result"
    }
   ],
   "source": [
    "// iterate through each example and build the corresponding prompt\n",
    "for (const [dirname, example] of examples) {\n",
    "\t// build the initialprompt\n",
    "\tlet initialPrompt = buildPrompt(example.issues[0].content, example.files);\n",
    "\t// write the prompt to a file\n",
    "\tfs.writeFileSync(path.join('./examples', dirname, 'prompt.md'), initialPrompt);\n",
    "}"
   ]
  },
  {
   "cell_type": "markdown",
   "metadata": {},
   "source": [
    "# Updating Files\n",
    "\n",
    "We retrieve a completion from OpenAI's completion endpoint and split the files up by a '---' delimiter,\n",
    "then we'll match them to their corresponding files.\n",
    "\n",
    "Let's define a few functions to help us with this. We'll bring in the `axios` package to make our HTTP requests."
   ]
  },
  {
   "cell_type": "code",
   "execution_count": 17,
   "metadata": {},
   "outputs": [
    {
     "data": {
      "text/plain": [
       "undefined"
      ]
     },
     "execution_count": 17,
     "metadata": {},
     "output_type": "execute_result"
    }
   ],
   "source": [
    "let completionToFiles, getCompletion;\n",
    "var axios = require('axios');"
   ]
  },
  {
   "cell_type": "code",
   "execution_count": 18,
   "metadata": {},
   "outputs": [
    {
     "data": {
      "text/plain": [
       "[AsyncFunction: getCompletion]"
      ]
     },
     "execution_count": 18,
     "metadata": {},
     "output_type": "execute_result"
    }
   ],
   "source": [
    "// process the completion & place it into the files' updatedContent field\n",
    "completionToFiles = (completion, files) => {\n",
    "\tlet completions = completion.split('---');\n",
    "\t// go through the list of completions, extract the filename and set the updated content\n",
    "\tfor (const cmpltn of completions) {\n",
    "\t\t// extract the file tag from the completion\n",
    "\t\tconst fileTagRegex = /#\\s*\\@(.+)/g;\n",
    "\t\tconst match = fileTagRegex.exec(cmpltn);\n",
    "\t\tif (match !== null) {\n",
    "\t\t\tconst fileTag = match[1];\n",
    "\t\t\tif (files.has(fileTag)) {\n",
    "\t\t\t\t// find the line containing the fileTag and remove all lines up to and including the fileTag \n",
    "\t\t\t\tconst lines = cmpltn.split('\\n');\n",
    "\t\t\t\tlet i = 0;\n",
    "\t\t\t\tfor (const line of lines) {\n",
    "\t\t\t\t\ti++;\n",
    "\t\t\t\t\tif (line.includes(fileTag)) {\n",
    "\t\t\t\t\t\tbreak;\n",
    "\t\t\t\t\t}\n",
    "\t\t\t\t}\n",
    "\t\t\t\t// remove the lines from the completion\n",
    "\t\t\t\tconst newCompletion = lines.slice(i).join('\\n');\n",
    "\t\t\t\t// set the updated content\n",
    "\t\t\t\tfiles.get(fileTag).updatedContent = newCompletion;\n",
    "\t\t\t};\n",
    "\t\t}\n",
    "\t}\n",
    "};\n",
    "\n",
    "// to create the completion\n",
    "getCompletion = async (prompt, maxTokens, stopSequences) => {\n",
    "\tstopSequences = stopSequences || ['####',];\n",
    "\tconst headers = {\n",
    "\t\t// get OPENAI_API_KEY from env\n",
    "\t\t\"Authorization\": `Bearer ${process.env.OPENAI_API_KEY}`,\n",
    "\t\t\"Content-Type\": \"application/json\",\n",
    "\t};\n",
    "\t// console.log(\"headers\", headers);\n",
    "\tconst body = {\n",
    "\t\tprompt: prompt,\n",
    "\t\tmax_tokens: maxTokens | 128,\n",
    "\t\tstop: stopSequences,\n",
    "\t\ttemperature: 0.2,\n",
    "\t\ttop_p: 1,\n",
    "\t\tfrequency_penalty: 0,\n",
    "\t\tpresence_penalty: 0,\n",
    "\t};\n",
    "\tlet completion;\n",
    "\n",
    "\t// request the openai api using axios\n",
    "\tawait axios.post(OPENAI_API_URL, body, { headers }).then(async (response) => {\n",
    "\t\t// update the object with the competion result\n",
    "\t\tif (response.status == 200 && response.data.choices) {\n",
    "\t\t\tif (response.data.choices.length > 0) {\n",
    "\t\t\t\tcompletion = response.data.choices[0].text;\n",
    "\t\t\t} else {\n",
    "\t\t\t\tconsole.error(\"no completion found\");\n",
    "\t\t\t}\n",
    "\t\t}\n",
    "\t});\n",
    "\treturn completion;\n",
    "};\n",
    "\n"
   ]
  },
  {
   "cell_type": "code",
   "execution_count": 19,
   "metadata": {},
   "outputs": [
    {
     "data": {
      "text/plain": [
       "undefined"
      ]
     },
     "execution_count": 19,
     "metadata": {},
     "output_type": "execute_result"
    }
   ],
   "source": [
    "const updateFilesFromCompletion = async (files, prompt, maxTokens) => {\n",
    "\tconst completion = await getCompletion(prompt, maxTokens, ['####',]);\n",
    "\tcompletionToFiles(completion, files);\n",
    "}"
   ]
  },
  {
   "cell_type": "code",
   "execution_count": 20,
   "metadata": {},
   "outputs": [
    {
     "data": {
      "text/plain": [
       "undefined"
      ]
     },
     "execution_count": 20,
     "metadata": {},
     "output_type": "execute_result"
    }
   ],
   "source": [
    "let writeFilesToCompletionsDir;"
   ]
  },
  {
   "cell_type": "code",
   "execution_count": 46,
   "metadata": {},
   "outputs": [
    {
     "data": {
      "text/plain": [
       "[Function: writeFilesToCompletionsDir]"
      ]
     },
     "execution_count": 46,
     "metadata": {},
     "output_type": "execute_result"
    }
   ],
   "source": [
    "// filesMap: map of {fileName: string => {path: string, content: string, updatedContent: string}}\n",
    "// basePath: string\n",
    "writeFilesToCompletionsDir = (filesMap, basePath) => {\n",
    "\t\t// delete the completions directory if it exists\n",
    "\t\tif (fs.existsSync(path.join(basePath, 'completions'))) {\n",
    "\t\t\tfs.rmSync(path.join(basePath, 'completions'), { recursive: true });\n",
    "\t\t}\n",
    "\n",
    "\t\t// write the updated files into the completions directory using their same path as the original files\n",
    "\t\tfor (const [_, file] of filesMap) {\n",
    "\t\t\tlet outputPath = path.join(basePath, 'completions', file.path);\n",
    "\t\t\tconsole.log('writing to: ', outputPath);\n",
    "\t\t\tfs.mkdirSync(path.dirname(outputPath), { recursive: true });\n",
    "\t\t\t// write the file and create parent directories, if needed\n",
    "\t\t\tfs.writeFileSync(outputPath, file.updatedContent);\n",
    "\t\t}\n",
    "}"
   ]
  },
  {
   "cell_type": "code",
   "execution_count": 22,
   "metadata": {},
   "outputs": [
    {
     "data": {
      "text/plain": [
       "undefined"
      ]
     },
     "execution_count": 22,
     "metadata": {},
     "output_type": "execute_result"
    }
   ],
   "source": [
    "let writeUpdatedContentToFiles;"
   ]
  },
  {
   "cell_type": "code",
   "execution_count": 37,
   "metadata": {},
   "outputs": [
    {
     "data": {
      "text/plain": [
       "[Function: writeUpdatedContentToFiles]"
      ]
     },
     "execution_count": 37,
     "metadata": {},
     "output_type": "execute_result"
    }
   ],
   "source": [
    "writeUpdatedContentToFiles = (filesMap, basePath) => {\n",
    "\t// go through each file and write the updated content to the file\n",
    "\tfor (const [filename, file] of filesMap) {\n",
    "\t\tlet outputPath = path.join(basePath, 'files', file.path);\n",
    "\t\tconsole.log(`updating file: \"${filename}\": ${file.path}`);\n",
    "\t\tfs.writeFileSync(outputPath, file.updatedContent);\n",
    "\t}\n",
    "}"
   ]
  },
  {
   "cell_type": "code",
   "execution_count": 24,
   "metadata": {},
   "outputs": [
    {
     "data": {
      "text/plain": [
       "undefined"
      ]
     },
     "execution_count": 24,
     "metadata": {},
     "output_type": "execute_result"
    }
   ],
   "source": [
    "let populateFileMap;"
   ]
  },
  {
   "cell_type": "code",
   "execution_count": 25,
   "metadata": {},
   "outputs": [
    {
     "data": {
      "text/plain": [
       "[Function: populateFileMap]"
      ]
     },
     "execution_count": 25,
     "metadata": {},
     "output_type": "execute_result"
    }
   ],
   "source": [
    "populateFileMap = (filesMap, basePath) => {\n",
    "\t// populate the example's files from the main files\n",
    "\tfor (const [_, file] of filesMap) {\n",
    "\t\t// read the file from the file.path and set the content\n",
    "\t\tlet filePath = path.join(basePath, file.path);\n",
    "\t\tfile.content = fs.readFileSync(filePath, 'utf8');\n",
    "\t}\t\n",
    "}"
   ]
  },
  {
   "cell_type": "code",
   "execution_count": 26,
   "metadata": {},
   "outputs": [
    {
     "data": {
      "text/plain": [
       "undefined"
      ]
     },
     "execution_count": 26,
     "metadata": {},
     "output_type": "execute_result"
    }
   ],
   "source": [
    "let generateCompletionsOnExample;"
   ]
  },
  {
   "cell_type": "code",
   "execution_count": 41,
   "metadata": {},
   "outputs": [
    {
     "data": {
      "text/plain": [
       "[AsyncFunction: generateCompletionsOnExample]"
      ]
     },
     "execution_count": 41,
     "metadata": {},
     "output_type": "execute_result"
    }
   ],
   "source": [
    "generateCompletionsOnExample = async (basePath, example) => {\n",
    "\tfor (let k = 0; k < example.issues.length; k++) {\n",
    "\t\tlet issue = example.issues[k];\n",
    "\t\tlet issuePath = path.join(basePath, 'issues', example.issues[k].issueNumber.toString());\n",
    "\t\tconsole.log(`::: example ${issue.issueNumber} in \"${issuePath}\" :::`);\n",
    "\t\tconsole.log(`\\`\\`\\`\\n${issue.content}\\n\\`\\`\\`\\n`);\n",
    "\n",
    "\t\t// populate the filesMap with the files from the issue\n",
    "\t\tpopulateFileMap(issue.relevantFiles, path.join(basePath, 'files'));\n",
    "\n",
    "\t\t// build the initial prompt\n",
    "\t\tlet initialPrompt = buildPrompt(example.issues[k].content, issue.relevantFiles);\n",
    "\t\t// write the prompt to a file\n",
    "\t\tfs.writeFileSync(path.join(issuePath, 'prompt.md'), initialPrompt);\n",
    "\n",
    "\t\t// update the files with the completion\n",
    "\t\tlet completion = await getCompletion(initialPrompt, 512, ['####',]);\n",
    "\t\t\n",
    "\t\t// if an existing completion.md file exists, delete it\n",
    "\t\tif (fs.existsSync(path.join(issuePath, 'completion.md'))) {\n",
    "\t\t\tfs.unlinkSync(path.join(issuePath, 'completion.md'));\n",
    "\t\t}\n",
    "\n",
    "\t\t// write the completion to a file\n",
    "\t\tfs.writeFileSync(path.join(issuePath, 'completion.md'), [initialPrompt, completion].join());\n",
    "\n",
    "\t\tcompletionToFiles(completion, issue.relevantFiles);\t\t\t\n",
    "\t\tconsole.log('files after converting completions', issue.relevantFiles);\n",
    "\t\twriteFilesToCompletionsDir(issue.relevantFiles, issuePath);\n",
    "\n",
    "\t\t// update base files with the completion\n",
    "\t\twriteUpdatedContentToFiles(issue.relevantFiles, basePath);\n",
    "\t}\n",
    "}"
   ]
  },
  {
   "cell_type": "markdown",
   "metadata": {},
   "source": [
    "Now we'll run the file updater"
   ]
  },
  {
   "cell_type": "code",
   "execution_count": 28,
   "metadata": {},
   "outputs": [
    {
     "name": "stdout",
     "output_type": "stream",
     "text": [
      "[ 'simple-prometheus-update' ]\n",
      "===== processing example 's' ======\n"
     ]
    },
    {
     "data": {
      "text/plain": [
       "undefined"
      ]
     },
     "execution_count": 28,
     "metadata": {},
     "output_type": "execute_result"
    }
   ],
   "source": [
    "// $$.async();\n",
    "\n",
    "{\n",
    "\t// iterate through each example in the examples directory and generate completions\n",
    "\tlet examples = fs.readdirSync('./examples');\n",
    "\tconsole.log(examples);\n",
    "\tfor (const [dirname, example] of examples) {\n",
    "\t\tconsole.log(`===== processing example '${dirname}' ======`);\n",
    "\t\t// generateCompletionsOnExample(path.join('./examples', dirname), example);\n",
    "\t}\n",
    "}"
   ]
  },
  {
   "cell_type": "code",
   "execution_count": 29,
   "metadata": {},
   "outputs": [
    {
     "data": {
      "text/plain": [
       "undefined"
      ]
     },
     "execution_count": 29,
     "metadata": {},
     "output_type": "execute_result"
    }
   ],
   "source": [
    "prompt"
   ]
  },
  {
   "cell_type": "code",
   "execution_count": 30,
   "metadata": {},
   "outputs": [
    {
     "data": {
      "text/plain": [
       "Map(2) {\n",
       "  'file1' => {\n",
       "    path: 'grafana/base/datasource.yaml',\n",
       "    content: 'apiVersion: integreatly.org/v1alpha1\\n' +\n",
       "      'kind: GrafanaDataSource\\n' +\n",
       "      'metadata:\\n' +\n",
       "      '  name: datasource\\n' +\n",
       "      'spec:\\n' +\n",
       "      '  name: prometheus-grafanadatasource.yaml\\n' +\n",
       "      '  datasources:\\n' +\n",
       "      '    - name: Prometheus\\n' +\n",
       "      '    - access: proxy\\n' +\n",
       "      '      editable: true\\n' +\n",
       "      '      isDefault: true\\n' +\n",
       "      '      jsonData:\\n' +\n",
       "      \"        httpHeaderName1: 'Authorization'\\n\" +\n",
       "      '        timeInterval: 5s\\n' +\n",
       "      '        tlsSkipVerify: true\\n' +\n",
       "      '      name: Prometheus\\n' +\n",
       "      '      secureJsonData:\\n' +\n",
       "      \"        httpHeaderValue1: 'Bearer ${BEARER_TOKEN}'\\n\" +\n",
       "      '      type: prometheus\\n' +\n",
       "      \"      url: 'https://thanos-querier.openshift-monitoring.svc.cluster.local:9091'\",\n",
       "    updatedContent: ''\n",
       "  },\n",
       "  'file2' => {\n",
       "    path: 'grafana/base/grafana-route.yaml',\n",
       "    content: 'kind: Route\\n' +\n",
       "      'apiVersion: route.openshift.io/v1\\n' +\n",
       "      'metadata:\\n' +\n",
       "      '  name: grafana\\n' +\n",
       "      '  annotations:\\n' +\n",
       "      '    kubernetes.io/tls-acme: \"true\"\\n' +\n",
       "      'spec:\\n' +\n",
       "      '  host: grafana.operate-first.cloud\\n' +\n",
       "      '  to:\\n' +\n",
       "      '    kind: Service\\n' +\n",
       "      '    name: grafana-service\\n' +\n",
       "      '  port:\\n' +\n",
       "      '    targetPort: 3000',\n",
       "    updatedContent: ''\n",
       "  }\n",
       "}"
      ]
     },
     "execution_count": 30,
     "metadata": {},
     "output_type": "execute_result"
    }
   ],
   "source": [
    "examples.get('simple-prometheus-update').files"
   ]
  },
  {
   "cell_type": "code",
   "execution_count": 31,
   "metadata": {},
   "outputs": [
    {
     "name": "stdout",
     "output_type": "stream",
     "text": [
      "{\n",
      "  issues: [\n",
      "    {\n",
      "      relevantFiles: [Map],\n",
      "      content: '`@file1:grafana/base/datasource.yaml`\\n' +\n",
      "        '`@file2:grafana/base/grafana-route.yaml`\\n' +\n",
      "        '\\n' +\n",
      "        '@file1 and @file2 must specify the `grafana-datasource` namespace.\\n' +\n",
      "        \"@file1 needs to increase the 'Prometheus' data source to a time interval of 20s.\\n\" +\n",
      "        'Disable tls-acme for @file2.\\n',\n",
      "      issueNumber: 1\n",
      "    }\n",
      "  ],\n",
      "  files: Map(2) {\n",
      "    'file1' => {\n",
      "      path: 'grafana/base/datasource.yaml',\n",
      "      content: 'apiVersion: integreatly.org/v1alpha1\\n' +\n",
      "        'kind: GrafanaDataSource\\n' +\n",
      "        'metadata:\\n' +\n",
      "        '  name: datasource\\n' +\n",
      "        'spec:\\n' +\n",
      "        '  name: prometheus-grafanadatasource.yaml\\n' +\n",
      "        '  datasources:\\n' +\n",
      "        '    - name: Prometheus\\n' +\n",
      "        '    - access: proxy\\n' +\n",
      "        '      editable: true\\n' +\n",
      "        '      isDefault: true\\n' +\n",
      "        '      jsonData:\\n' +\n",
      "        \"        httpHeaderName1: 'Authorization'\\n\" +\n",
      "        '        timeInterval: 5s\\n' +\n",
      "        '        tlsSkipVerify: true\\n' +\n",
      "        '      name: Prometheus\\n' +\n",
      "        '      secureJsonData:\\n' +\n",
      "        \"        httpHeaderValue1: 'Bearer ${BEARER_TOKEN}'\\n\" +\n",
      "        '      type: prometheus\\n' +\n",
      "        \"      url: 'https://thanos-querier.openshift-monitoring.svc.cluster.local:9091'\",\n",
      "      updatedContent: ''\n",
      "    },\n",
      "    'file2' => {\n",
      "      path: 'grafana/base/grafana-route.yaml',\n",
      "      content: 'kind: Route\\n' +\n",
      "        'apiVersion: route.openshift.io/v1\\n' +\n",
      "        'metadata:\\n' +\n",
      "        '  name: grafana\\n' +\n",
      "        '  annotations:\\n' +\n",
      "        '    kubernetes.io/tls-acme: \"true\"\\n' +\n",
      "        'spec:\\n' +\n",
      "        '  host: grafana.operate-first.cloud\\n' +\n",
      "        '  to:\\n' +\n",
      "        '    kind: Service\\n' +\n",
      "        '    name: grafana-service\\n' +\n",
      "        '  port:\\n' +\n",
      "        '    targetPort: 3000',\n",
      "      updatedContent: ''\n",
      "    }\n",
      "  }\n",
      "}\n"
     ]
    },
    {
     "data": {
      "text/plain": [
       "undefined"
      ]
     },
     "execution_count": 31,
     "metadata": {},
     "output_type": "execute_result"
    }
   ],
   "source": [
    "// output the full contents of the firt example in the examples map\n",
    "console.log(examples.get('simple-prometheus-update'))"
   ]
  },
  {
   "cell_type": "markdown",
   "metadata": {},
   "source": [
    "## Processing Examples\n",
    "\n",
    "We will use the following structure to process examples:\n",
    "1. Read the `examples` directory to get a list of all the example directories\n",
    "2. For each `example`, do the following:\n",
    "\t1. Gather the list of issues in the `issues` directory\n",
    "\t2. For each issue:\n",
    "\t\t1. gather the relevant files from the `files` directory\n",
    "\t\t2. Generate a prompt based on the issue & files\n",
    "\t\t3. Try and retrieve a completion from OpenAI's completion endpoint:\n",
    "\t\t\t- If successful:\n",
    "\t\t\t\t1. Gather the updated files, write their contents to the original files in `files`\n",
    "\t\t\t\t2. Create a copy of the completed files in the `completions` directory \n",
    "\t\t\t- Otherwise, stop processing the issues\n",
    "\t3. Write the last successfully processed issue to a `last-processed` file\n"
   ]
  },
  {
   "cell_type": "markdown",
   "metadata": {},
   "source": []
  },
  {
   "cell_type": "code",
   "execution_count": 32,
   "metadata": {},
   "outputs": [
    {
     "data": {
      "text/plain": [
       "undefined"
      ]
     },
     "execution_count": 32,
     "metadata": {},
     "output_type": "execute_result"
    }
   ],
   "source": [
    "let processExample;"
   ]
  },
  {
   "cell_type": "code",
   "execution_count": 42,
   "metadata": {},
   "outputs": [
    {
     "data": {
      "text/plain": [
       "[AsyncFunction: processExample]"
      ]
     },
     "execution_count": 42,
     "metadata": {},
     "output_type": "execute_result"
    }
   ],
   "source": [
    "processExample = async (baseDir) => {\n",
    "\t// first check to see if a last-processed.json file exists\n",
    "\tlet lastProcessedFile = path.join(baseDir, 'last-processed.json');\n",
    "\tlet lastProcessed;\n",
    "\tif (fs.existsSync(lastProcessedFile)) {\n",
    "\t\tlastProcessed = JSON.parse(fs.readFileSync(lastProcessedFile, 'utf8'));\n",
    "\t} else {\n",
    "\t\tlastProcessed = {\n",
    "\t\t\tissueNumber: 0,\n",
    "\t\t};\n",
    "\t}\n",
    "\n",
    "\t// load the issues \n",
    "\tlet issues = getIssuesForDirectory(path.join(baseDir, 'issues'));\n",
    "\t\n",
    "\t// we need to process all issues whose number is greater than the last processed issue number\n",
    "\tlet issuesToProcess = issues.filter((issue) => issue.issueNumber > lastProcessed.issueNumber);\n",
    "\n",
    "\ttry {\n",
    "\t\t// process each issue until failure or completion\n",
    "\t\tfor (let issue of issuesToProcess) {\n",
    "\t\t\t// populate the issue's files \n",
    "\t\t\tpopulateFileMap(issue.relevantFiles, path.join(baseDir, 'files'));\n",
    "\t\t\t\n",
    "\t\t\t// generate a prompt from the issue's content and files\n",
    "\t\t\tlet initialPrompt = buildPrompt(issue.content, issue.relevantFiles);\n",
    "\t\t\t\n",
    "\t\t\t// write the prompt to a file\n",
    "\t\t\t// if an existing prompt.md file exists, delete it\n",
    "\t\t\tlet issuePath = path.join(baseDir, 'issues', issue.issueNumber.toString());\n",
    "\t\t\tif (fs.existsSync(path.join(issuePath, 'prompt.md'))) {\n",
    "\t\t\t\tfs.unlinkSync(path.join(issuePath, 'prompt.md'));\n",
    "\t\t\t}\n",
    "\t\t\tfs.writeFileSync(path.join(issuePath, 'prompt.md'), initialPrompt);\n",
    "\n",
    "\t\t\t// obtain a completion \n",
    "\t\t\tlet completion = await getCompletion(initialPrompt, 512, ['####',]);\n",
    "\n",
    "\t\t\t// write the completion to a file, if one already exists then overwrite it\n",
    "\t\t\tif (fs.existsSync(path.join(issuePath, 'completion.md'))) {\n",
    "\t\t\t\tfs.unlinkSync(path.join(issuePath, 'completion.md'));\n",
    "\t\t\t}\n",
    "\t\t\tfs.writeFileSync(path.join(issuePath, 'completion.md'), [initialPrompt, completion].join(), );\n",
    "\n",
    "\t\t\t// convert the completion to the issue's files\n",
    "\t\t\tcompletionToFiles(completion, issue.relevantFiles);\t\t\t\n",
    "\t\t\twriteFilesToCompletionsDir(issue.relevantFiles, issuePath);\n",
    "\t\t\twriteUpdatedContentToFiles(issue.relevantFiles, baseDir);\n",
    "\t\t\t\n",
    "\t\t\t// update the last processed issue number\n",
    "\t\t\tlastProcessed.issueNumber = issue.issueNumber;\n",
    "\t\t}\n",
    "\t} catch(e) {\n",
    "\t\tconsole.log(e);\n",
    "\t} finally {\n",
    "\t\t// write the last processed issue number to a file\n",
    "\t\tfs.writeFileSync(lastProcessedFile, JSON.stringify(lastProcessed));\n",
    "\t}\n",
    "};"
   ]
  },
  {
   "cell_type": "code",
   "execution_count": 34,
   "metadata": {},
   "outputs": [
    {
     "data": {
      "text/plain": [
       "undefined"
      ]
     },
     "execution_count": 34,
     "metadata": {},
     "output_type": "execute_result"
    }
   ],
   "source": [
    "let processExamples;"
   ]
  },
  {
   "cell_type": "code",
   "execution_count": 43,
   "metadata": {},
   "outputs": [
    {
     "data": {
      "text/plain": [
       "[AsyncFunction: processExamples]"
      ]
     },
     "execution_count": 43,
     "metadata": {},
     "output_type": "execute_result"
    }
   ],
   "source": [
    "processExamples = async () => {\n",
    "\tconst examplesDir = './examples';\n",
    "\tconst examples = fs.readdirSync(examplesDir);\n",
    "\tfor (const dirname of examples) {\n",
    "\t\tlet exampleDir = path.join(examplesDir, dirname);\n",
    "\t\t// read the last issue processed from the example directory\n",
    "\t\tawait processExample(exampleDir);\n",
    "\t}\n",
    "}"
   ]
  },
  {
   "cell_type": "code",
   "execution_count": 47,
   "metadata": {},
   "outputs": [
    {
     "name": "stdout",
     "output_type": "stream",
     "text": [
      "writing to:  examples/simple-prometheus-update/issues/1/completions/grafana/base/datasource.yaml\n",
      "writing to:  examples/simple-prometheus-update/issues/1/completions/grafana/base/grafana-route.yaml\n",
      "updating file: \"file1\": grafana/base/datasource.yaml\n",
      "updating file: \"file2\": grafana/base/grafana-route.yaml\n",
      "writing to:  examples/simple-prometheus-update/issues/2/completions/grafana/base/datasource.yaml\n",
      "updating file: \"file1\": grafana/base/datasource.yaml\n"
     ]
    },
    {
     "data": {
      "text/plain": [
       "undefined"
      ]
     },
     "execution_count": 47,
     "metadata": {},
     "output_type": "execute_result"
    }
   ],
   "source": [
    "$$.async();\n",
    "{\n",
    "\tprocessExamples();\n",
    "}"
   ]
  }
 ],
 "metadata": {
  "kernelspec": {
   "display_name": "JavaScript (Node.js)",
   "language": "javascript",
   "name": "javascript"
  },
  "language_info": {
   "file_extension": ".js",
   "mimetype": "application/javascript",
   "name": "javascript",
   "version": "16.13.1"
  },
  "orig_nbformat": 4
 },
 "nbformat": 4,
 "nbformat_minor": 2
}
