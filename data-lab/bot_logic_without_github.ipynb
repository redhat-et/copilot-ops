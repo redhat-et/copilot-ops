{
 "cells": [
  {
   "cell_type": "code",
   "execution_count": 2,
   "metadata": {},
   "outputs": [
    {
     "data": {
      "text/plain": [
       "undefined"
      ]
     },
     "execution_count": 2,
     "metadata": {},
     "output_type": "execute_result"
    }
   ],
   "source": [
    "// declare our variables up here\n",
    "let prompt, files, issue, i, examples;\n",
    "const OPENAI_API_URL = 'https://api.openai.com/v1/engines/code-davinci-001/completions';\n"
   ]
  },
  {
   "cell_type": "code",
   "execution_count": 3,
   "metadata": {},
   "outputs": [
    {
     "data": {
      "text/plain": [
       "'@file1:/path/to/file1\\n' +\n",
       "  '@file2:/path/to/file2\\n' +\n",
       "  '\\n' +\n",
       "  'The amount of CPU in @file1 needs to be increased to 512M\\n' +\n",
       "  'The PVC storage amount in @file2 should be decreased to 10Gi\\n'"
      ]
     },
     "execution_count": 3,
     "metadata": {},
     "output_type": "execute_result"
    }
   ],
   "source": [
    "issue = `@file1:/path/to/file1\n",
    "@file2:/path/to/file2\n",
    "\n",
    "The amount of CPU in @file1 needs to be increased to 512M\n",
    "The PVC storage amount in @file2 should be decreased to 10Gi\n",
    "`;"
   ]
  },
  {
   "cell_type": "markdown",
   "metadata": {},
   "source": [
    "## Reading File Data\n",
    "We'll use an `examples` directory to describe our scenarios. Every scenario consists of a directory called `files` containing the initial files that we'll be referencing, and a `issues` directory consisting of subdirectories named by the issue numbers, e.g. `issues/1`, `issues/2`, etc. Under each subdirectory, there is an `issue.md` file describing the changes to be made, and a `completions` directory where the files will be written to after being updated.\n",
    "\n",
    "\n",
    "For example:\n",
    "\n",
    "```\n",
    "files/\n",
    "\tREADME.md\n",
    "\tindex.js\n",
    "\tpackage.json\n",
    "\tpackage-lock.json\n",
    "issues/\n",
    "\t1/\n",
    "\t\tissue.md\n",
    "\t\tcompletions/\n",
    "\t\t\tREADME.md\n",
    "\t\t\tindex.js\n",
    "\t\t\tpackage.json\n",
    "\t\t\tpackage-lock.json\n",
    "\t2/\n",
    "\t\tissue.md\n",
    "\t\tcompletions/\n",
    "\t\t\tREADME.md\n",
    "\t\t\tindex.js\n",
    "\t\t\tpackage.json\n",
    "\t\t\tpackage-lock.json\n",
    "\t3/\n",
    "\t\tissue.md\n",
    "\t\tcompletions/\n",
    "\t\t\tREADME.md\n",
    "\t\t\tindex.js\n",
    "\t\t\tpackage.json\n",
    "\t\t\tpackage-lock.json\n",
    "```\n",
    "\n"
   ]
  },
  {
   "cell_type": "code",
   "execution_count": 4,
   "metadata": {},
   "outputs": [
    {
     "data": {
      "text/plain": [
       "undefined"
      ]
     },
     "execution_count": 4,
     "metadata": {},
     "output_type": "execute_result"
    }
   ],
   "source": [
    "// import libraries\n",
    "const path = require('path');\n",
    "const fs = require('fs');"
   ]
  },
  {
   "cell_type": "code",
   "execution_count": 5,
   "metadata": {},
   "outputs": [
    {
     "data": {
      "text/plain": [
       "undefined"
      ]
     },
     "execution_count": 5,
     "metadata": {},
     "output_type": "execute_result"
    }
   ],
   "source": [
    "// list out the contents of the current directory\n",
    "let localFiles = fs.readdirSync('./examples');"
   ]
  },
  {
   "cell_type": "code",
   "execution_count": 6,
   "metadata": {},
   "outputs": [
    {
     "data": {
      "text/plain": [
       "undefined"
      ]
     },
     "execution_count": 6,
     "metadata": {},
     "output_type": "execute_result"
    }
   ],
   "source": [
    "// return a map of {fileName => {path: path, content: content}}\n",
    "const getFilesFromIssue = (issue) => {\n",
    "\t// extract a map of the files from the issue based on the following regex:\n",
    "\t// /`(@([a-zA-Z0-9_\\-]+):(.+))`/g\n",
    "\tconst fileRegex = /`(@([a-zA-Z0-9_\\-]+):(.+))`/g;\n",
    "\t// create a map from the filename to the filepath\n",
    "\tconst fileMap = new Map();\n",
    "\t// extract the string from group 3 of the regex\n",
    "\tlet match;\n",
    "\twhile (match = fileRegex.exec(issue)) {\n",
    "\t\tlet [name, path] = [match[2], match[3]];\n",
    "\t\tif (!fileMap.has(name)) {\n",
    "\t\t\t// define the file object here \n",
    "\t\t\tfileMap.set(name, {\n",
    "\t\t\t\tpath: path,\n",
    "\t\t\t\tcontent: '',\n",
    "\t\t\t\tupdatedContent: '',\n",
    "\t\t\t});\n",
    "\t\t} else {\n",
    "\t\t\tconsole.error(`duplicate file name ${name}`);\n",
    "\t\t}\n",
    "\t}\n",
    "\treturn fileMap;\n",
    "}\n"
   ]
  },
  {
   "cell_type": "code",
   "execution_count": 7,
   "metadata": {},
   "outputs": [
    {
     "data": {
      "text/plain": [
       "undefined"
      ]
     },
     "execution_count": 7,
     "metadata": {},
     "output_type": "execute_result"
    }
   ],
   "source": [
    "const populateFiles = (fileMap, rootDir) => {\n",
    "\t// look through the fileMap and read the contents of the file at the given path\n",
    "\tfor (const [_, file] of fileMap) {\n",
    "\t\tlet searchPath = path.join(rootDir, file.path);\n",
    "\t\tfile.content = fs.readFileSync(searchPath, 'utf8');\n",
    "\t}\n",
    "\treturn fileMap;\n",
    "}"
   ]
  },
  {
   "cell_type": "code",
   "execution_count": 27,
   "metadata": {},
   "outputs": [
    {
     "name": "stdout",
     "output_type": "stream",
     "text": [
      "simple-prometheus-update\n",
      "going through 1\n",
      "going through 2\n",
      "first item in issues {\n",
      "  content: '`@file1:grafana/base/datasource.yaml`\\n' +\n",
      "    '`@file2:grafana/base/grafana-route.yaml`\\n' +\n",
      "    '\\n' +\n",
      "    'The amount of CPU in @file1 needs to be increased to 512M\\n' +\n",
      "    'The PVC storage amount in @file2 should be decreased to 10Gi',\n",
      "  issueNumber: 1\n",
      "}\n",
      "Map(1) {\n",
      "  'simple-prometheus-update' => {\n",
      "    issues: [ [Object], [Object] ],\n",
      "    files: Map(2) { 'file1' => [Object], 'file2' => [Object] }\n",
      "  }\n",
      "}\n"
     ]
    },
    {
     "data": {
      "text/plain": [
       "undefined"
      ]
     },
     "execution_count": 27,
     "metadata": {},
     "output_type": "execute_result"
    }
   ],
   "source": [
    "examples = new Map();\n",
    "// loop through local files in ./examples\n",
    "// examples is a directory \n",
    "for (const dirname of fs.readdirSync('./examples')) {\n",
    "\tconsole.log(dirname);\n",
    "\texamples.set(dirname, {\n",
    "\t\tissues: [],\t// list of issues, sorted by their number\n",
    "\t\tfiles: new Map(),\t// map of {fileName => {path: path, content: content, updatedContent}}\n",
    "\t})\n",
    "\t\n",
    "\t// issues will be a list of issue objects of the format {issue: string, issueNumber: number}\n",
    "\tlet issues = [];\n",
    "\n",
    "\t// go through the `issues` directory and extract the `issue.md` file from each subdirectory \n",
    "\t// and number the issue based on its parent directory number\n",
    "\tfor (const issueDirname of fs.readdirSync(path.join('./examples', dirname, 'issues'))) {\n",
    "\t\tconsole.log('going through', issueDirname);\n",
    "\t\tlet issueNumber = parseInt(issueDirname);\n",
    "\t\tlet issuePath = path.join('./examples', dirname, 'issues', issueDirname, 'issue.md');\n",
    "\t\tlet issue = fs.readFileSync(issuePath, 'utf8');\n",
    "\t\tissues.push({\n",
    "\t\t\tcontent: issue,\n",
    "\t\t\tissueNumber: issueNumber,\n",
    "\t\t});\n",
    "\t}\n",
    "\t// sort the issues by their issue number\n",
    "\tissues.sort((a, b) => a.issueNumber - b.issueNumber);\n",
    "\texamples.get(dirname).issues = issues;\n",
    "\tconsole.log(\"first item in issues\", issues[0]);\n",
    "\t// populate the files map\n",
    "\texamples.get(dirname).files = getFilesFromIssue(issues[0].content);\n",
    "\tpopulateFiles(examples.get(dirname).files, path.join('./examples', dirname, 'files'));\n",
    "}\n",
    "console.log(examples);"
   ]
  },
  {
   "cell_type": "code",
   "execution_count": 9,
   "metadata": {},
   "outputs": [
    {
     "data": {
      "text/plain": [
       "Map(2) {\n",
       "  'file1' => {\n",
       "    path: 'grafana/base/datasource.yaml',\n",
       "    content: 'apiVersion: integreatly.org/v1alpha1\\n' +\n",
       "      'kind: GrafanaDataSource\\n' +\n",
       "      'metadata:\\n' +\n",
       "      '  name: datasource\\n' +\n",
       "      'spec:\\n' +\n",
       "      '  name: prometheus-grafanadatasource.yaml\\n' +\n",
       "      '  datasources:\\n' +\n",
       "      '    - name: Prometheus\\n' +\n",
       "      '    - access: proxy\\n' +\n",
       "      '      editable: true\\n' +\n",
       "      '      isDefault: true\\n' +\n",
       "      '      jsonData:\\n' +\n",
       "      \"        httpHeaderName1: 'Authorization'\\n\" +\n",
       "      '        timeInterval: 5s\\n' +\n",
       "      '        tlsSkipVerify: true\\n' +\n",
       "      '      name: Prometheus\\n' +\n",
       "      '      secureJsonData:\\n' +\n",
       "      \"        httpHeaderValue1: 'Bearer ${BEARER_TOKEN}'\\n\" +\n",
       "      '      type: prometheus\\n' +\n",
       "      \"      url: 'https://thanos-querier.openshift-monitoring.svc.cluster.local:9091'\\n\",\n",
       "    updatedContent: ''\n",
       "  },\n",
       "  'file2' => {\n",
       "    path: 'grafana/base/grafana-route.yaml',\n",
       "    content: 'kind: Route\\n' +\n",
       "      'apiVersion: route.openshift.io/v1\\n' +\n",
       "      'metadata:\\n' +\n",
       "      '  name: grafana\\n' +\n",
       "      '  annotations:\\n' +\n",
       "      '    kubernetes.io/tls-acme: \"true\"\\n' +\n",
       "      'spec:\\n' +\n",
       "      '  host: grafana.operate-first.cloud\\n' +\n",
       "      '  to:\\n' +\n",
       "      '    kind: Service\\n' +\n",
       "      '    name: grafana-service\\n' +\n",
       "      '  port:\\n' +\n",
       "      '    targetPort: 3000\\n',\n",
       "    updatedContent: ''\n",
       "  }\n",
       "}"
      ]
     },
     "execution_count": 9,
     "metadata": {},
     "output_type": "execute_result"
    }
   ],
   "source": [
    "files = new Map([\n",
    "  ['file1', {\n",
    "    path: 'grafana/base/datasource.yaml',\n",
    "    content: 'apiVersion: integreatly.org/v1alpha1\\n' +\n",
    "      'kind: GrafanaDataSource\\n' +\n",
    "      'metadata:\\n' +\n",
    "      '  name: datasource\\n' +\n",
    "      'spec:\\n' +\n",
    "      '  name: prometheus-grafanadatasource.yaml\\n' +\n",
    "      '  datasources:\\n' +\n",
    "      '    - name: Prometheus\\n' +\n",
    "      '    - access: proxy\\n' +\n",
    "      '      editable: true\\n' +\n",
    "      '      isDefault: true\\n' +\n",
    "      '      jsonData:\\n' +\n",
    "      \"        httpHeaderName1: 'Authorization'\\n\" +\n",
    "      '        timeInterval: 5s\\n' +\n",
    "      '        tlsSkipVerify: true\\n' +\n",
    "      '      name: Prometheus\\n' +\n",
    "      '      secureJsonData:\\n' +\n",
    "      \"        httpHeaderValue1: 'Bearer ${BEARER_TOKEN}'\\n\" +\n",
    "      '      type: prometheus\\n' +\n",
    "      \"      url: 'https://thanos-querier.openshift-monitoring.svc.cluster.local:9091'\\n\",\n",
    "    updatedContent: ''\n",
    "  }],\n",
    "  ['file2', {\n",
    "    path: 'grafana/base/grafana-route.yaml',\n",
    "    content: 'kind: Route\\n' +\n",
    "      'apiVersion: route.openshift.io/v1\\n' +\n",
    "      'metadata:\\n' +\n",
    "      '  name: grafana\\n' +\n",
    "      '  annotations:\\n' +\n",
    "      '    kubernetes.io/tls-acme: \"true\"\\n' +\n",
    "      'spec:\\n' +\n",
    "      '  host: grafana.operate-first.cloud\\n' +\n",
    "      '  to:\\n' +\n",
    "      '    kind: Service\\n' +\n",
    "      '    name: grafana-service\\n' +\n",
    "      '  port:\\n' +\n",
    "      '    targetPort: 3000\\n',\n",
    "    updatedContent: ''\n",
    "  }]\n",
    "]);"
   ]
  },
  {
   "cell_type": "markdown",
   "metadata": {},
   "source": [
    "## Building the prompt"
   ]
  },
  {
   "cell_type": "code",
   "execution_count": 10,
   "metadata": {},
   "outputs": [
    {
     "data": {
      "text/plain": [
       "undefined"
      ]
     },
     "execution_count": 10,
     "metadata": {},
     "output_type": "execute_result"
    }
   ],
   "source": [
    "// @issue: string\n",
    "// @files: map of {fileName: string => {path: string, content: string, updatedContent: string}}\n",
    "const buildPrompt = (issue, files) => {\n",
    "\tlet prompt = `# Listed below are:\n",
    "# 1. Explanation of how two files need to be changed\n",
    "# 2. The original files, each one separated by a '---' string\n",
    "# 3. Files updated with the described changes, with a '---' string in-between each file\n",
    "# 4. A '####' string, indicating the end of the document\n",
    "\n",
    "\n",
    "## Description of issues:\n",
    "${issue}\\n\n",
    "\n",
    "## Original files:\n",
    "`;\n",
    "\n",
    "\ti = 0;\n",
    "\tfor (const [fileName, file] of files) {\n",
    "\t\tprompt += `# @${fileName}\\n${file.content}\\n`;\n",
    "\t\t// only place the delimiting string if in-between files\n",
    "\t\tif (files.size > 1 && i < files.size - 1) {\n",
    "\t\t\tprompt += '---\\n';\n",
    "\t\t}\n",
    "\t\ti++;\n",
    "\t}\n",
    "\n",
    "\tprompt += `\n",
    "## Updated files:\n",
    "`;\n",
    "\treturn prompt;\n",
    "}"
   ]
  },
  {
   "cell_type": "code",
   "execution_count": 28,
   "metadata": {},
   "outputs": [
    {
     "data": {
      "text/plain": [
       "undefined"
      ]
     },
     "execution_count": 28,
     "metadata": {},
     "output_type": "execute_result"
    }
   ],
   "source": [
    "// iterate through each example and build the corresponding prompt\n",
    "for (const [dirname, example] of examples) {\n",
    "\t// build the initialprompt\n",
    "\tlet initialPrompt = buildPrompt(example.issues[0].content, example.files);\n",
    "\t// write the prompt to a file\n",
    "\tfs.writeFileSync(path.join('./examples', dirname, 'prompt.md'), initialPrompt);\n",
    "}"
   ]
  },
  {
   "cell_type": "markdown",
   "metadata": {},
   "source": [
    "# Updating Files\n",
    "\n",
    "We retrieve a completion from OpenAI's completion endpoint and split the files up by a '---' delimiter,\n",
    "then we'll match them to their corresponding files.\n",
    "\n",
    "Let's define a few functions to help us with this. We'll bring in the `axios` package to make our HTTP requests."
   ]
  },
  {
   "cell_type": "code",
   "execution_count": 12,
   "metadata": {},
   "outputs": [
    {
     "data": {
      "text/plain": [
       "undefined"
      ]
     },
     "execution_count": 12,
     "metadata": {},
     "output_type": "execute_result"
    }
   ],
   "source": [
    "var axios = require('axios');\n",
    "\n",
    "// process the completion & place it into the files' updatedContent field\n",
    "const completionToFiles = (completions, files) => {\n",
    "\t// go through the list of completions, extract the filename and set the updated content\n",
    "\tfor (const completion of completions) {\n",
    "\t\t// extract the file tag from the completion\n",
    "\t\tconst fileTagRegex = /# \\@(.+)/g;\n",
    "\t\tconst match = fileTagRegex.exec(completion);\n",
    "\t\tif (match !== null) {\n",
    "\t\t\tconst fileTag = match[1];\n",
    "\t\t\tif (files.has(fileTag)) {\n",
    "\t\t\t\t// find the line containing the fileTag and remove all lines up to and including the fileTag \n",
    "\t\t\t\tconst lines = completion.split('\\n');\n",
    "\t\t\t\tlet i = 0;\n",
    "\t\t\t\tfor (const line of lines) {\n",
    "\t\t\t\t\ti++;\n",
    "\t\t\t\t\tif (line.includes(fileTag)) {\n",
    "\t\t\t\t\t\tbreak;\n",
    "\t\t\t\t\t}\n",
    "\t\t\t\t}\n",
    "\t\t\t\t// remove the lines from the completion\n",
    "\t\t\t\tconst newCompletion = lines.slice(i).join('\\n');\n",
    "\t\t\t\t// set the updated content\n",
    "\t\t\t\tfiles.get(fileTag).updatedContent = newCompletion;\n",
    "\t\t\t};\n",
    "\t\t}\n",
    "\t}\n",
    "};\n",
    "\n",
    "// to create the completion\n",
    "const getCompletion = async (prompt, maxTokens, stopSequences) => {\n",
    "\tstopSequences = stopSequences || ['####',];\n",
    "\tconst headers = {\n",
    "\t\t// get OPENAI_API_KEY from env\n",
    "\t\t\"Authorization\": `Bearer ${process.env.OPENAI_API_KEY}`,\n",
    "\t\t\"Content-Type\": \"application/json\",\n",
    "\t};\n",
    "\t// console.log(\"headers\", headers);\n",
    "\tconst body = {\n",
    "\t\tprompt: prompt,\n",
    "\t\tmax_tokens: maxTokens | 128,\n",
    "\t\tstop: stopSequences,\n",
    "\t\ttemperature: 0.12,\n",
    "\t\ttop_p: 1,\n",
    "\t\tfrequency_penalty: 0,\n",
    "\t\tpresence_penalty: 0,\n",
    "\t};\n",
    "\tlet completionFiles;\n",
    "\n",
    "\t// request the openai api using axios\n",
    "\tawait axios.post(OPENAI_API_URL, body, { headers }).then(async (response) => {\n",
    "\t\t// update the object with the competion result\n",
    "\t\tif (response.status == 200 && response.data.choices) {\n",
    "\t\t\tif (response.data.choices.length > 0) {\n",
    "\t\t\t\tlet completion = response.data.choices[0].text;\n",
    "\t\t\t\t// split completion into files \n",
    "\t\t\t\tcompletionFiles = completion.split('---');\n",
    "\t\t\t} else {\n",
    "\t\t\t\tconsole.error(\"no completion found\");\n",
    "\t\t\t}\n",
    "\t\t}\n",
    "\t});\n",
    "\treturn completionFiles;\n",
    "};\n",
    "\n"
   ]
  },
  {
   "cell_type": "code",
   "execution_count": 13,
   "metadata": {},
   "outputs": [
    {
     "data": {
      "text/plain": [
       "undefined"
      ]
     },
     "execution_count": 13,
     "metadata": {},
     "output_type": "execute_result"
    }
   ],
   "source": [
    "const updateFilesFromCompletion = async (files, prompt, maxTokens) => {\n",
    "\tconst completion = await getCompletion(prompt, maxTokens, ['####',]);\n",
    "\tcompletionToFiles(completion, files);\n",
    "}"
   ]
  },
  {
   "cell_type": "code",
   "execution_count": 29,
   "metadata": {},
   "outputs": [
    {
     "data": {
      "text/plain": [
       "undefined"
      ]
     },
     "execution_count": 29,
     "metadata": {},
     "output_type": "execute_result"
    }
   ],
   "source": [
    "let generateCompletionsOnExample;"
   ]
  },
  {
   "cell_type": "code",
   "execution_count": 37,
   "metadata": {},
   "outputs": [
    {
     "data": {
      "text/plain": [
       "[AsyncFunction: generateCompletionsOnExample]"
      ]
     },
     "execution_count": 37,
     "metadata": {},
     "output_type": "execute_result"
    }
   ],
   "source": [
    "generateCompletionsOnExample = async (basePath, example) => {\n",
    "\tfor (let k = 0; k < example.issues.length; k++) {\n",
    "\t\t// if this is not the first issue, then we need to update the files object so that the \n",
    "\t\t// base content property is set to the updatedContent, and the updatedContent is set to blank\n",
    "\t\tif (k > 0) {\n",
    "\t\t\tfor (const [fileName, file] of example.files) {\n",
    "\t\t\t\tfile.content = file.updatedContent;\n",
    "\t\t\t\tfile.updatedContent = '';\n",
    "\t\t\t}\n",
    "\t\t}\n",
    "\n",
    "\t\t// build the initial prompt\n",
    "\t\tlet initialPrompt = buildPrompt(example.issues[k].content, example.files);\n",
    "\t\t// update the files with the completion\n",
    "\t\tawait updateFilesFromCompletion(example.files, initialPrompt, 512);\n",
    "\t\t\n",
    "\t\t// write the updated files into the completions directory using their same path as the original files\n",
    "\t\tfor (const [fileName, file] of example.files) {\n",
    "\t\t\tlet outputPath = path.join(basePath, 'issues', example.issues[k].issueNumber.toString(), 'completions', file.path);\n",
    "\t\t\tconsole.log('writing to: ', outputPath);\n",
    "\t\t\t// write the file and create parent directories, if needed\n",
    "\t\t\tfs.writeFileSync(outputPath, file.updatedContent);\n",
    "\t\t}\n",
    "\t}\n",
    "}"
   ]
  },
  {
   "cell_type": "markdown",
   "metadata": {},
   "source": [
    "Now we'll run the file updater"
   ]
  },
  {
   "cell_type": "code",
   "execution_count": 38,
   "metadata": {},
   "outputs": [
    {
     "name": "stdout",
     "output_type": "stream",
     "text": [
      "writing to:  examples/simple-prometheus-update/issues/1/completions/grafana/base/datasource.yaml\n"
     ]
    },
    {
     "name": "stderr",
     "output_type": "stream",
     "text": [
      "Error: ENOENT: no such file or directory, open 'examples/simple-prometheus-update/issues/1/completions/grafana/base/datasource.yaml'\n",
      "    at Object.openSync (node:fs:585:3)\n",
      "    at Object.writeFileSync (node:fs:2153:35)\n",
      "    at generateCompletionsOnExample (evalmachine.<anonymous>:21:7)\n",
      "    at processTicksAndRejections (node:internal/process/task_queues:96:5)"
     ]
    },
    {
     "data": {
      "text/plain": [
       "undefined"
      ]
     },
     "execution_count": 38,
     "metadata": {},
     "output_type": "execute_result"
    }
   ],
   "source": [
    "$$.async();\n",
    "\n",
    "{\n",
    "\t// iterate through the issues and get a completion for each one\n",
    "\tfor (const [dirname, example] of examples) {\n",
    "\t\tgenerateCompletionsOnExample(path.join('./examples', dirname), example);\n",
    "\t}\n",
    "\n",
    "\tprompt = buildPrompt(issue, files);\n",
    "\tupdateFilesFromCompletion(files, prompt, 512);\n",
    "}"
   ]
  },
  {
   "cell_type": "code",
   "execution_count": 35,
   "metadata": {},
   "outputs": [
    {
     "data": {
      "text/plain": [
       "Map(2) {\n",
       "  'file1' => {\n",
       "    path: 'grafana/base/datasource.yaml',\n",
       "    content: 'apiVersion: integreatly.org/v1alpha1\\n' +\n",
       "      'kind: GrafanaDataSource\\n' +\n",
       "      'metadata:\\n' +\n",
       "      '  name: datasource\\n' +\n",
       "      'spec:\\n' +\n",
       "      '  name: prometheus-grafanadatasource.yaml\\n' +\n",
       "      '  datasources:\\n' +\n",
       "      '    - name: Prometheus\\n' +\n",
       "      '    - access: proxy\\n' +\n",
       "      '      editable: true\\n' +\n",
       "      '      isDefault: true\\n' +\n",
       "      '      jsonData:\\n' +\n",
       "      \"        httpHeaderName1: 'Authorization'\\n\" +\n",
       "      '        timeInterval: 5s\\n' +\n",
       "      '        tlsSkipVerify: true\\n' +\n",
       "      '      name: Prometheus\\n' +\n",
       "      '      secureJsonData:\\n' +\n",
       "      \"        httpHeaderValue1: 'Bearer ${BEARER_TOKEN}'\\n\" +\n",
       "      '      type: prometheus\\n' +\n",
       "      \"      url: 'https://thanos-querier.openshift-monitoring.svc.cluster.local:9091'\\n\",\n",
       "    updatedContent: 'apiVersion: integreatly.org/v1alpha1\\n' +\n",
       "      'kind: GrafanaDataSource\\n' +\n",
       "      'metadata:\\n' +\n",
       "      '  name: datasource\\n' +\n",
       "      'spec:\\n' +\n",
       "      '  name: prometheus-grafanadatasource.yaml\\n' +\n",
       "      '  datasources:\\n' +\n",
       "      '    - name: Prometheus\\n' +\n",
       "      '    - access: proxy\\n' +\n",
       "      '      editable: true\\n' +\n",
       "      '      isDefault: true\\n' +\n",
       "      '      jsonData:\\n' +\n",
       "      \"        httpHeaderName1: 'Authorization'\\n\" +\n",
       "      '        timeInterval: 5s\\n' +\n",
       "      '        tlsSkipVerify: true\\n' +\n",
       "      '      name: Prometheus\\n' +\n",
       "      '      secureJsonData:\\n' +\n",
       "      \"        httpHeaderValue1: 'Bearer ${BEARER_TOKEN}'\\n\" +\n",
       "      '      type: prometheus\\n' +\n",
       "      \"      url: 'https://thanos-querier.openshift-monitoring.svc.cluster.local:9091'\\n\" +\n",
       "      '\\n'\n",
       "  },\n",
       "  'file2' => {\n",
       "    path: 'grafana/base/grafana-route.yaml',\n",
       "    content: 'kind: Route\\n' +\n",
       "      'apiVersion: route.openshift.io/v1\\n' +\n",
       "      'metadata:\\n' +\n",
       "      '  name: grafana\\n' +\n",
       "      '  annotations:\\n' +\n",
       "      '    kubernetes.io/tls-acme: \"true\"\\n' +\n",
       "      'spec:\\n' +\n",
       "      '  host: grafana.operate-first.cloud\\n' +\n",
       "      '  to:\\n' +\n",
       "      '    kind: Service\\n' +\n",
       "      '    name: grafana-service\\n' +\n",
       "      '  port:\\n' +\n",
       "      '    targetPort: 3000\\n',\n",
       "    updatedContent: 'kind: Route\\n' +\n",
       "      'apiVersion: route.openshift.io/v1\\n' +\n",
       "      'metadata:\\n' +\n",
       "      '  name: grafana\\n' +\n",
       "      '  annotations:\\n' +\n",
       "      '    kubernetes.io/tls-acme: \"true\"\\n' +\n",
       "      'spec:\\n' +\n",
       "      '  host: grafana.operate-first.cloud\\n' +\n",
       "      '  to:\\n' +\n",
       "      '    kind: Service\\n' +\n",
       "      '    name: grafana-service\\n' +\n",
       "      '  port:\\n' +\n",
       "      '    targetPort: 3000\\n' +\n",
       "      '\\n'\n",
       "  }\n",
       "}"
      ]
     },
     "execution_count": 35,
     "metadata": {},
     "output_type": "execute_result"
    }
   ],
   "source": [
    "files"
   ]
  },
  {
   "cell_type": "code",
   "execution_count": 39,
   "metadata": {},
   "outputs": [
    {
     "ename": "Error",
     "evalue": "ENOENT: no such file or directory, open 'examples/second-dir/sub-dir/another-dir/prompt.md'",
     "output_type": "error",
     "traceback": [
      "node:internal/fs/utils:344",
      "    throw err;",
      "    ^",
      "",
      "Error: ENOENT: no such file or directory, open 'examples/second-dir/sub-dir/another-dir/prompt.md'",
      "    at Object.openSync (node:fs:585:3)",
      "    at Object.writeFileSync (node:fs:2153:35)",
      "    at evalmachine.<anonymous>:1:4",
      "    at Script.runInThisContext (node:vm:129:12)",
      "    at Object.runInThisContext (node:vm:305:38)",
      "    at run ([eval]:1054:15)",
      "    at onRunRequest ([eval]:888:18)",
      "    at onMessage ([eval]:848:13)",
      "    at process.emit (node:events:390:28)",
      "    at emit (node:internal/child_process:917:12)"
     ]
    }
   ],
   "source": [
    "fs.writeFileSync(path.join('./examples', 'second-dir', 'sub-dir', 'another-dir', 'prompt.md'), 'initialPrompt');\n",
    "// write the file to the /examples/test/dir directory and create parent directories, if needed \n",
    "\n",
    "let testDir = './examples/test-dir/another-dir/tc-top.txt';\n",
    "fs.mkdir(getDirName(testDir), { recursive: true}, function (err) {\n",
    "\tif (err) return cb(err);\n",
    "\n",
    "\tfs.writeFile(path, contents, cb);\n",
    "});\n"
   ]
  }
 ],
 "metadata": {
  "kernelspec": {
   "display_name": "JavaScript (Node.js)",
   "language": "javascript",
   "name": "javascript"
  },
  "language_info": {
   "file_extension": ".js",
   "mimetype": "application/javascript",
   "name": "javascript",
   "version": "16.13.1"
  },
  "orig_nbformat": 4
 },
 "nbformat": 4,
 "nbformat_minor": 2
}
